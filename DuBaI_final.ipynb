{
 "cells": [
  {
   "cell_type": "markdown",
   "metadata": {
    "colab_type": "text",
    "id": "MRzkZjRg1XwH"
   },
   "source": [
    "**Goal** of the task is to **predict SalePrice** by creating and training a model minimizing the **RMSE**."
   ]
  },
  {
   "cell_type": "markdown",
   "metadata": {
    "colab_type": "text",
    "id": "zjYKq_q-1XwL"
   },
   "source": [
    "    For each Id(house) in the test set, model must predict the value of the SalePrice variable. \n",
    "\n"
   ]
  },
  {
   "cell_type": "markdown",
   "metadata": {
    "colab_type": "text",
    "id": "5RF_mX2H1XwN"
   },
   "source": [
    "## Libraries"
   ]
  },
  {
   "cell_type": "code",
   "execution_count": 4,
   "metadata": {
    "colab": {},
    "colab_type": "code",
    "id": "lDABwijQ1XwP"
   },
   "outputs": [],
   "source": [
    "import pandas as pd\n",
    "from IPython.display import Image\n",
    "import seaborn as sns\n",
    "import numpy as np\n",
    "import matplotlib.pyplot as plt\n",
    "from scipy.stats import norm as normal\n",
    "from scipy.stats import skew,kurtosis\n",
    "\n",
    "from sklearn.model_selection import train_test_split\n",
    "from sklearn.metrics import mean_squared_error\n",
    "from sklearn.model_selection import RandomizedSearchCV\n",
    "\n",
    "from sklearn.feature_selection import mutual_info_regression\n",
    "from sklearn.feature_selection import SelectFromModel\n",
    "from sklearn.linear_model import Lasso\n",
    "\n",
    "from sklearn import linear_model\n",
    "import warnings\n",
    "warnings.filterwarnings('ignore') \n",
    "import pylab \n",
    "from matplotlib import colors as mcolors\n",
    "import random\n",
    "import seaborn as sns\n",
    "\n",
    "from sklearn.linear_model import ElasticNetCV, LassoCV, RidgeCV\n",
    "from sklearn.linear_model import ElasticNet, Lasso,  BayesianRidge, LassoLarsIC,Ridge\n",
    "from sklearn.ensemble import RandomForestRegressor,  GradientBoostingRegressor\n",
    "from sklearn.kernel_ridge import KernelRidge\n",
    "from sklearn.pipeline import make_pipeline\n",
    "from sklearn.preprocessing import RobustScaler\n",
    "from sklearn.base import BaseEstimator, TransformerMixin, RegressorMixin, clone\n",
    "from sklearn.model_selection import KFold, cross_val_score, train_test_split\n",
    "from sklearn.metrics import mean_squared_error\n",
    "import xgboost as xgb\n",
    "import lightgbm as lgb"
   ]
  },
  {
   "cell_type": "code",
   "execution_count": 2558,
   "metadata": {
    "colab": {
     "base_uri": "https://localhost:8080/",
     "height": 310
    },
    "colab_type": "code",
    "id": "FEzKMdnV1Xwj",
    "outputId": "2d7749b7-bee2-44b4-9bac-24910842c3c2"
   },
   "outputs": [
    {
     "data": {
      "image/jpeg": "[encoded data removed]",
      "text/plain": [
       "<IPython.core.display.Image object>"
      ]
     },
     "execution_count": 2558,
     "metadata": {
      "tags": []
     },
     "output_type": "execute_result"
    }
   ],
   "source": [
    "Image(filename='crisp-dm.jpg')"
   ]
  },
  {
   "cell_type": "markdown",
   "metadata": {
    "colab_type": "text",
    "id": "qekTx9Vr1Xwi"
   },
   "source": [
    "Using the CRISP-DM methodology our main focus will be on the following phases:\n",
    "\n",
    "    - Data Understanding\n",
    "    - Data Preparation\n",
    "    - Modelling\n",
    "    - Evaluation"
   ]
  },
  {
   "cell_type": "markdown",
   "metadata": {
    "colab_type": "text",
    "id": "wbwe9Y5j1Xww"
   },
   "source": [
    "# Data Preparation (Data Tidying)"
   ]
  },
  {
   "cell_type": "code",
   "execution_count": 0,
   "metadata": {
    "colab": {},
    "colab_type": "code",
    "id": "hjSOtvd51Xwy"
   },
   "outputs": [],
   "source": [
    "train_data=pd.read_csv('train.csv')\n",
    "test_data=pd.read_csv('test.csv')"
   ]
  },
  {
   "cell_type": "code",
   "execution_count": 0,
   "metadata": {
    "colab": {},
    "colab_type": "code",
    "id": "6lyh4H5Q1XxO"
   },
   "outputs": [],
   "source": [
    "#store Id for the submission file and remove it from the train and test data cause it is irrelevant for the prediction model\n",
    "Id=test_data['Id']"
   ]
  },
  {
   "cell_type": "markdown",
   "metadata": {
    "colab_type": "text",
    "id": "Wt-skqHz1XxZ"
   },
   "source": [
    "Drop column 'Id' cause we don't need it for training the model!"
   ]
  },
  {
   "cell_type": "code",
   "execution_count": 0,
   "metadata": {
    "colab": {},
    "colab_type": "code",
    "id": "HxbpHS0y1Xxc"
   },
   "outputs": [],
   "source": [
    "train_data.drop(['Id'],axis=1,inplace=True)"
   ]
  },
  {
   "cell_type": "code",
   "execution_count": 0,
   "metadata": {
    "colab": {},
    "colab_type": "code",
    "id": "Wif_OcEG1Xxp"
   },
   "outputs": [],
   "source": [
    "test_data.drop(['Id'],axis=1,inplace=True)"
   ]
  },
  {
   "cell_type": "markdown",
   "metadata": {
    "colab_type": "text",
    "id": "JgUnH1p61Xxy"
   },
   "source": [
    "Train data has 1460 records and 80 attributes, while test data has 1459 records and 79 attributes when removing Id column."
   ]
  },
  {
   "cell_type": "code",
   "execution_count": 2563,
   "metadata": {
    "colab": {
     "base_uri": "https://localhost:8080/",
     "height": 34
    },
    "colab_type": "code",
    "id": "F36jSupk1Xxz",
    "outputId": "fcecbb0b-6cb2-45b4-c513-86c76221bad5"
   },
   "outputs": [
    {
     "data": {
      "text/plain": [
       "(1460, 80)"
      ]
     },
     "execution_count": 2563,
     "metadata": {
      "tags": []
     },
     "output_type": "execute_result"
    }
   ],
   "source": [
    "train_data.shape"
   ]
  },
  {
   "cell_type": "code",
   "execution_count": 2564,
   "metadata": {
    "colab": {
     "base_uri": "https://localhost:8080/",
     "height": 34
    },
    "colab_type": "code",
    "id": "Gn-EN1X61Xx7",
    "outputId": "78633483-e777-498b-cfd6-2ac3545e4cca"
   },
   "outputs": [
    {
     "data": {
      "text/plain": [
       "(1459, 79)"
      ]
     },
     "execution_count": 2564,
     "metadata": {
      "tags": []
     },
     "output_type": "execute_result"
    }
   ],
   "source": [
    "test_data.shape"
   ]
  },
  {
   "cell_type": "code",
   "execution_count": 0,
   "metadata": {
    "colab": {},
    "colab_type": "code",
    "id": "aZkHPJFW1XyD"
   },
   "outputs": [],
   "source": [
    "houses_data = train_data.append(test_data,ignore_index=True)"
   ]
  },
  {
   "cell_type": "markdown",
   "metadata": {
    "colab_type": "text",
    "id": "uhAn3Tb21XyB"
   },
   "source": [
    "**MERGE** train data and test data into one dataframe so we can preform imputing of the NaN values and feature creation"
   ]
  },
  {
   "cell_type": "markdown",
   "metadata": {
    "colab_type": "text",
    "id": "-JwYrVKVEHZQ"
   },
   "source": [
    "Now the whole dataset (with train and test data has 2919 rows)"
   ]
  },
  {
   "cell_type": "code",
   "execution_count": 2566,
   "metadata": {
    "colab": {
     "base_uri": "https://localhost:8080/",
     "height": 34
    },
    "colab_type": "code",
    "id": "lyEErODj1XyM",
    "outputId": "2558c8e2-22aa-4f00-eced-4bdae48619e9"
   },
   "outputs": [
    {
     "data": {
      "text/plain": [
       "(2919, 80)"
      ]
     },
     "execution_count": 2566,
     "metadata": {
      "tags": []
     },
     "output_type": "execute_result"
    }
   ],
   "source": [
    "houses_data.shape"
   ]
  },
  {
   "cell_type": "code",
   "execution_count": 2567,
   "metadata": {
    "colab": {
     "base_uri": "https://localhost:8080/",
     "height": 215
    },
    "colab_type": "code",
    "id": "4oer81ZE1Xyf",
    "outputId": "25a8ba29-e391-40ba-dded-8872ddcc3f03"
   },
   "outputs": [
    {
     "data": {
      "text/html": [
       "<div>\n",
       "<style scoped>\n",
       "    .dataframe tbody tr th:only-of-type {\n",
       "        vertical-align: middle;\n",
       "    }\n",
       "\n",
       "    .dataframe tbody tr th {\n",
       "        vertical-align: top;\n",
       "    }\n",
       "\n",
       "    .dataframe thead th {\n",
       "        text-align: right;\n",
       "    }\n",
       "</style>\n",
       "<table border=\"1\" class=\"dataframe\">\n",
       "  <thead>\n",
       "    <tr style=\"text-align: right;\">\n",
       "      <th></th>\n",
       "      <th>1stFlrSF</th>\n",
       "      <th>2ndFlrSF</th>\n",
       "      <th>3SsnPorch</th>\n",
       "      <th>Alley</th>\n",
       "      <th>BedroomAbvGr</th>\n",
       "      <th>BldgType</th>\n",
       "      <th>BsmtCond</th>\n",
       "      <th>BsmtExposure</th>\n",
       "      <th>BsmtFinSF1</th>\n",
       "      <th>BsmtFinSF2</th>\n",
       "      <th>BsmtFinType1</th>\n",
       "      <th>BsmtFinType2</th>\n",
       "      <th>BsmtFullBath</th>\n",
       "      <th>BsmtHalfBath</th>\n",
       "      <th>BsmtQual</th>\n",
       "      <th>BsmtUnfSF</th>\n",
       "      <th>CentralAir</th>\n",
       "      <th>Condition1</th>\n",
       "      <th>Condition2</th>\n",
       "      <th>Electrical</th>\n",
       "      <th>EnclosedPorch</th>\n",
       "      <th>ExterCond</th>\n",
       "      <th>ExterQual</th>\n",
       "      <th>Exterior1st</th>\n",
       "      <th>Exterior2nd</th>\n",
       "      <th>Fence</th>\n",
       "      <th>FireplaceQu</th>\n",
       "      <th>Fireplaces</th>\n",
       "      <th>Foundation</th>\n",
       "      <th>FullBath</th>\n",
       "      <th>Functional</th>\n",
       "      <th>GarageArea</th>\n",
       "      <th>GarageCars</th>\n",
       "      <th>GarageCond</th>\n",
       "      <th>GarageFinish</th>\n",
       "      <th>GarageQual</th>\n",
       "      <th>GarageType</th>\n",
       "      <th>GarageYrBlt</th>\n",
       "      <th>GrLivArea</th>\n",
       "      <th>HalfBath</th>\n",
       "      <th>Heating</th>\n",
       "      <th>HeatingQC</th>\n",
       "      <th>HouseStyle</th>\n",
       "      <th>KitchenAbvGr</th>\n",
       "      <th>KitchenQual</th>\n",
       "      <th>LandContour</th>\n",
       "      <th>LandSlope</th>\n",
       "      <th>LotArea</th>\n",
       "      <th>LotConfig</th>\n",
       "      <th>LotFrontage</th>\n",
       "      <th>LotShape</th>\n",
       "      <th>LowQualFinSF</th>\n",
       "      <th>MSSubClass</th>\n",
       "      <th>MSZoning</th>\n",
       "      <th>MasVnrArea</th>\n",
       "      <th>MasVnrType</th>\n",
       "      <th>MiscFeature</th>\n",
       "      <th>MiscVal</th>\n",
       "      <th>MoSold</th>\n",
       "      <th>Neighborhood</th>\n",
       "      <th>OpenPorchSF</th>\n",
       "      <th>OverallCond</th>\n",
       "      <th>OverallQual</th>\n",
       "      <th>PavedDrive</th>\n",
       "      <th>PoolArea</th>\n",
       "      <th>PoolQC</th>\n",
       "      <th>RoofMatl</th>\n",
       "      <th>RoofStyle</th>\n",
       "      <th>SaleCondition</th>\n",
       "      <th>SalePrice</th>\n",
       "      <th>SaleType</th>\n",
       "      <th>ScreenPorch</th>\n",
       "      <th>Street</th>\n",
       "      <th>TotRmsAbvGrd</th>\n",
       "      <th>TotalBsmtSF</th>\n",
       "      <th>Utilities</th>\n",
       "      <th>WoodDeckSF</th>\n",
       "      <th>YearBuilt</th>\n",
       "      <th>YearRemodAdd</th>\n",
       "      <th>YrSold</th>\n",
       "    </tr>\n",
       "  </thead>\n",
       "  <tbody>\n",
       "    <tr>\n",
       "      <th>0</th>\n",
       "      <td>856</td>\n",
       "      <td>854</td>\n",
       "      <td>0</td>\n",
       "      <td>NaN</td>\n",
       "      <td>3</td>\n",
       "      <td>1Fam</td>\n",
       "      <td>TA</td>\n",
       "      <td>No</td>\n",
       "      <td>706.0</td>\n",
       "      <td>0.0</td>\n",
       "      <td>GLQ</td>\n",
       "      <td>Unf</td>\n",
       "      <td>1.0</td>\n",
       "      <td>0.0</td>\n",
       "      <td>Gd</td>\n",
       "      <td>150.0</td>\n",
       "      <td>Y</td>\n",
       "      <td>Norm</td>\n",
       "      <td>Norm</td>\n",
       "      <td>SBrkr</td>\n",
       "      <td>0</td>\n",
       "      <td>TA</td>\n",
       "      <td>Gd</td>\n",
       "      <td>VinylSd</td>\n",
       "      <td>VinylSd</td>\n",
       "      <td>NaN</td>\n",
       "      <td>NaN</td>\n",
       "      <td>0</td>\n",
       "      <td>PConc</td>\n",
       "      <td>2</td>\n",
       "      <td>Typ</td>\n",
       "      <td>548.0</td>\n",
       "      <td>2.0</td>\n",
       "      <td>TA</td>\n",
       "      <td>RFn</td>\n",
       "      <td>TA</td>\n",
       "      <td>Attchd</td>\n",
       "      <td>2003.0</td>\n",
       "      <td>1710</td>\n",
       "      <td>1</td>\n",
       "      <td>GasA</td>\n",
       "      <td>Ex</td>\n",
       "      <td>2Story</td>\n",
       "      <td>1</td>\n",
       "      <td>Gd</td>\n",
       "      <td>Lvl</td>\n",
       "      <td>Gtl</td>\n",
       "      <td>8450</td>\n",
       "      <td>Inside</td>\n",
       "      <td>65.0</td>\n",
       "      <td>Reg</td>\n",
       "      <td>0</td>\n",
       "      <td>60</td>\n",
       "      <td>RL</td>\n",
       "      <td>196.0</td>\n",
       "      <td>BrkFace</td>\n",
       "      <td>NaN</td>\n",
       "      <td>0</td>\n",
       "      <td>2</td>\n",
       "      <td>CollgCr</td>\n",
       "      <td>61</td>\n",
       "      <td>5</td>\n",
       "      <td>7</td>\n",
       "      <td>Y</td>\n",
       "      <td>0</td>\n",
       "      <td>NaN</td>\n",
       "      <td>CompShg</td>\n",
       "      <td>Gable</td>\n",
       "      <td>Normal</td>\n",
       "      <td>208500.0</td>\n",
       "      <td>WD</td>\n",
       "      <td>0</td>\n",
       "      <td>Pave</td>\n",
       "      <td>8</td>\n",
       "      <td>856.0</td>\n",
       "      <td>AllPub</td>\n",
       "      <td>0</td>\n",
       "      <td>2003</td>\n",
       "      <td>2003</td>\n",
       "      <td>2008</td>\n",
       "    </tr>\n",
       "    <tr>\n",
       "      <th>1</th>\n",
       "      <td>1262</td>\n",
       "      <td>0</td>\n",
       "      <td>0</td>\n",
       "      <td>NaN</td>\n",
       "      <td>3</td>\n",
       "      <td>1Fam</td>\n",
       "      <td>TA</td>\n",
       "      <td>Gd</td>\n",
       "      <td>978.0</td>\n",
       "      <td>0.0</td>\n",
       "      <td>ALQ</td>\n",
       "      <td>Unf</td>\n",
       "      <td>0.0</td>\n",
       "      <td>1.0</td>\n",
       "      <td>Gd</td>\n",
       "      <td>284.0</td>\n",
       "      <td>Y</td>\n",
       "      <td>Feedr</td>\n",
       "      <td>Norm</td>\n",
       "      <td>SBrkr</td>\n",
       "      <td>0</td>\n",
       "      <td>TA</td>\n",
       "      <td>TA</td>\n",
       "      <td>MetalSd</td>\n",
       "      <td>MetalSd</td>\n",
       "      <td>NaN</td>\n",
       "      <td>TA</td>\n",
       "      <td>1</td>\n",
       "      <td>CBlock</td>\n",
       "      <td>2</td>\n",
       "      <td>Typ</td>\n",
       "      <td>460.0</td>\n",
       "      <td>2.0</td>\n",
       "      <td>TA</td>\n",
       "      <td>RFn</td>\n",
       "      <td>TA</td>\n",
       "      <td>Attchd</td>\n",
       "      <td>1976.0</td>\n",
       "      <td>1262</td>\n",
       "      <td>0</td>\n",
       "      <td>GasA</td>\n",
       "      <td>Ex</td>\n",
       "      <td>1Story</td>\n",
       "      <td>1</td>\n",
       "      <td>TA</td>\n",
       "      <td>Lvl</td>\n",
       "      <td>Gtl</td>\n",
       "      <td>9600</td>\n",
       "      <td>FR2</td>\n",
       "      <td>80.0</td>\n",
       "      <td>Reg</td>\n",
       "      <td>0</td>\n",
       "      <td>20</td>\n",
       "      <td>RL</td>\n",
       "      <td>0.0</td>\n",
       "      <td>None</td>\n",
       "      <td>NaN</td>\n",
       "      <td>0</td>\n",
       "      <td>5</td>\n",
       "      <td>Veenker</td>\n",
       "      <td>0</td>\n",
       "      <td>8</td>\n",
       "      <td>6</td>\n",
       "      <td>Y</td>\n",
       "      <td>0</td>\n",
       "      <td>NaN</td>\n",
       "      <td>CompShg</td>\n",
       "      <td>Gable</td>\n",
       "      <td>Normal</td>\n",
       "      <td>181500.0</td>\n",
       "      <td>WD</td>\n",
       "      <td>0</td>\n",
       "      <td>Pave</td>\n",
       "      <td>6</td>\n",
       "      <td>1262.0</td>\n",
       "      <td>AllPub</td>\n",
       "      <td>298</td>\n",
       "      <td>1976</td>\n",
       "      <td>1976</td>\n",
       "      <td>2007</td>\n",
       "    </tr>\n",
       "    <tr>\n",
       "      <th>2</th>\n",
       "      <td>920</td>\n",
       "      <td>866</td>\n",
       "      <td>0</td>\n",
       "      <td>NaN</td>\n",
       "      <td>3</td>\n",
       "      <td>1Fam</td>\n",
       "      <td>TA</td>\n",
       "      <td>Mn</td>\n",
       "      <td>486.0</td>\n",
       "      <td>0.0</td>\n",
       "      <td>GLQ</td>\n",
       "      <td>Unf</td>\n",
       "      <td>1.0</td>\n",
       "      <td>0.0</td>\n",
       "      <td>Gd</td>\n",
       "      <td>434.0</td>\n",
       "      <td>Y</td>\n",
       "      <td>Norm</td>\n",
       "      <td>Norm</td>\n",
       "      <td>SBrkr</td>\n",
       "      <td>0</td>\n",
       "      <td>TA</td>\n",
       "      <td>Gd</td>\n",
       "      <td>VinylSd</td>\n",
       "      <td>VinylSd</td>\n",
       "      <td>NaN</td>\n",
       "      <td>TA</td>\n",
       "      <td>1</td>\n",
       "      <td>PConc</td>\n",
       "      <td>2</td>\n",
       "      <td>Typ</td>\n",
       "      <td>608.0</td>\n",
       "      <td>2.0</td>\n",
       "      <td>TA</td>\n",
       "      <td>RFn</td>\n",
       "      <td>TA</td>\n",
       "      <td>Attchd</td>\n",
       "      <td>2001.0</td>\n",
       "      <td>1786</td>\n",
       "      <td>1</td>\n",
       "      <td>GasA</td>\n",
       "      <td>Ex</td>\n",
       "      <td>2Story</td>\n",
       "      <td>1</td>\n",
       "      <td>Gd</td>\n",
       "      <td>Lvl</td>\n",
       "      <td>Gtl</td>\n",
       "      <td>11250</td>\n",
       "      <td>Inside</td>\n",
       "      <td>68.0</td>\n",
       "      <td>IR1</td>\n",
       "      <td>0</td>\n",
       "      <td>60</td>\n",
       "      <td>RL</td>\n",
       "      <td>162.0</td>\n",
       "      <td>BrkFace</td>\n",
       "      <td>NaN</td>\n",
       "      <td>0</td>\n",
       "      <td>9</td>\n",
       "      <td>CollgCr</td>\n",
       "      <td>42</td>\n",
       "      <td>5</td>\n",
       "      <td>7</td>\n",
       "      <td>Y</td>\n",
       "      <td>0</td>\n",
       "      <td>NaN</td>\n",
       "      <td>CompShg</td>\n",
       "      <td>Gable</td>\n",
       "      <td>Normal</td>\n",
       "      <td>223500.0</td>\n",
       "      <td>WD</td>\n",
       "      <td>0</td>\n",
       "      <td>Pave</td>\n",
       "      <td>6</td>\n",
       "      <td>920.0</td>\n",
       "      <td>AllPub</td>\n",
       "      <td>0</td>\n",
       "      <td>2001</td>\n",
       "      <td>2002</td>\n",
       "      <td>2008</td>\n",
       "    </tr>\n",
       "    <tr>\n",
       "      <th>3</th>\n",
       "      <td>961</td>\n",
       "      <td>756</td>\n",
       "      <td>0</td>\n",
       "      <td>NaN</td>\n",
       "      <td>3</td>\n",
       "      <td>1Fam</td>\n",
       "      <td>Gd</td>\n",
       "      <td>No</td>\n",
       "      <td>216.0</td>\n",
       "      <td>0.0</td>\n",
       "      <td>ALQ</td>\n",
       "      <td>Unf</td>\n",
       "      <td>1.0</td>\n",
       "      <td>0.0</td>\n",
       "      <td>TA</td>\n",
       "      <td>540.0</td>\n",
       "      <td>Y</td>\n",
       "      <td>Norm</td>\n",
       "      <td>Norm</td>\n",
       "      <td>SBrkr</td>\n",
       "      <td>272</td>\n",
       "      <td>TA</td>\n",
       "      <td>TA</td>\n",
       "      <td>Wd Sdng</td>\n",
       "      <td>Wd Shng</td>\n",
       "      <td>NaN</td>\n",
       "      <td>Gd</td>\n",
       "      <td>1</td>\n",
       "      <td>BrkTil</td>\n",
       "      <td>1</td>\n",
       "      <td>Typ</td>\n",
       "      <td>642.0</td>\n",
       "      <td>3.0</td>\n",
       "      <td>TA</td>\n",
       "      <td>Unf</td>\n",
       "      <td>TA</td>\n",
       "      <td>Detchd</td>\n",
       "      <td>1998.0</td>\n",
       "      <td>1717</td>\n",
       "      <td>0</td>\n",
       "      <td>GasA</td>\n",
       "      <td>Gd</td>\n",
       "      <td>2Story</td>\n",
       "      <td>1</td>\n",
       "      <td>Gd</td>\n",
       "      <td>Lvl</td>\n",
       "      <td>Gtl</td>\n",
       "      <td>9550</td>\n",
       "      <td>Corner</td>\n",
       "      <td>60.0</td>\n",
       "      <td>IR1</td>\n",
       "      <td>0</td>\n",
       "      <td>70</td>\n",
       "      <td>RL</td>\n",
       "      <td>0.0</td>\n",
       "      <td>None</td>\n",
       "      <td>NaN</td>\n",
       "      <td>0</td>\n",
       "      <td>2</td>\n",
       "      <td>Crawfor</td>\n",
       "      <td>35</td>\n",
       "      <td>5</td>\n",
       "      <td>7</td>\n",
       "      <td>Y</td>\n",
       "      <td>0</td>\n",
       "      <td>NaN</td>\n",
       "      <td>CompShg</td>\n",
       "      <td>Gable</td>\n",
       "      <td>Abnorml</td>\n",
       "      <td>140000.0</td>\n",
       "      <td>WD</td>\n",
       "      <td>0</td>\n",
       "      <td>Pave</td>\n",
       "      <td>7</td>\n",
       "      <td>756.0</td>\n",
       "      <td>AllPub</td>\n",
       "      <td>0</td>\n",
       "      <td>1915</td>\n",
       "      <td>1970</td>\n",
       "      <td>2006</td>\n",
       "    </tr>\n",
       "    <tr>\n",
       "      <th>4</th>\n",
       "      <td>1145</td>\n",
       "      <td>1053</td>\n",
       "      <td>0</td>\n",
       "      <td>NaN</td>\n",
       "      <td>4</td>\n",
       "      <td>1Fam</td>\n",
       "      <td>TA</td>\n",
       "      <td>Av</td>\n",
       "      <td>655.0</td>\n",
       "      <td>0.0</td>\n",
       "      <td>GLQ</td>\n",
       "      <td>Unf</td>\n",
       "      <td>1.0</td>\n",
       "      <td>0.0</td>\n",
       "      <td>Gd</td>\n",
       "      <td>490.0</td>\n",
       "      <td>Y</td>\n",
       "      <td>Norm</td>\n",
       "      <td>Norm</td>\n",
       "      <td>SBrkr</td>\n",
       "      <td>0</td>\n",
       "      <td>TA</td>\n",
       "      <td>Gd</td>\n",
       "      <td>VinylSd</td>\n",
       "      <td>VinylSd</td>\n",
       "      <td>NaN</td>\n",
       "      <td>TA</td>\n",
       "      <td>1</td>\n",
       "      <td>PConc</td>\n",
       "      <td>2</td>\n",
       "      <td>Typ</td>\n",
       "      <td>836.0</td>\n",
       "      <td>3.0</td>\n",
       "      <td>TA</td>\n",
       "      <td>RFn</td>\n",
       "      <td>TA</td>\n",
       "      <td>Attchd</td>\n",
       "      <td>2000.0</td>\n",
       "      <td>2198</td>\n",
       "      <td>1</td>\n",
       "      <td>GasA</td>\n",
       "      <td>Ex</td>\n",
       "      <td>2Story</td>\n",
       "      <td>1</td>\n",
       "      <td>Gd</td>\n",
       "      <td>Lvl</td>\n",
       "      <td>Gtl</td>\n",
       "      <td>14260</td>\n",
       "      <td>FR2</td>\n",
       "      <td>84.0</td>\n",
       "      <td>IR1</td>\n",
       "      <td>0</td>\n",
       "      <td>60</td>\n",
       "      <td>RL</td>\n",
       "      <td>350.0</td>\n",
       "      <td>BrkFace</td>\n",
       "      <td>NaN</td>\n",
       "      <td>0</td>\n",
       "      <td>12</td>\n",
       "      <td>NoRidge</td>\n",
       "      <td>84</td>\n",
       "      <td>5</td>\n",
       "      <td>8</td>\n",
       "      <td>Y</td>\n",
       "      <td>0</td>\n",
       "      <td>NaN</td>\n",
       "      <td>CompShg</td>\n",
       "      <td>Gable</td>\n",
       "      <td>Normal</td>\n",
       "      <td>250000.0</td>\n",
       "      <td>WD</td>\n",
       "      <td>0</td>\n",
       "      <td>Pave</td>\n",
       "      <td>9</td>\n",
       "      <td>1145.0</td>\n",
       "      <td>AllPub</td>\n",
       "      <td>192</td>\n",
       "      <td>2000</td>\n",
       "      <td>2000</td>\n",
       "      <td>2008</td>\n",
       "    </tr>\n",
       "  </tbody>\n",
       "</table>\n",
       "</div>"
      ],
      "text/plain": [
       "   1stFlrSF  2ndFlrSF  3SsnPorch  ... YearBuilt  YearRemodAdd YrSold\n",
       "0       856       854          0  ...      2003          2003   2008\n",
       "1      1262         0          0  ...      1976          1976   2007\n",
       "2       920       866          0  ...      2001          2002   2008\n",
       "3       961       756          0  ...      1915          1970   2006\n",
       "4      1145      1053          0  ...      2000          2000   2008\n",
       "\n",
       "[5 rows x 80 columns]"
      ]
     },
     "execution_count": 2567,
     "metadata": {
      "tags": []
     },
     "output_type": "execute_result"
    }
   ],
   "source": [
    "houses_data.head()"
   ]
  },
  {
   "cell_type": "markdown",
   "metadata": {
    "colab_type": "text",
    "id": "Z8uf_A9hM9Be"
   },
   "source": [
    "Importing `data_preparation.py` module and its functions"
   ]
  },
  {
   "cell_type": "code",
   "execution_count": 0,
   "metadata": {
    "colab": {},
    "colab_type": "code",
    "id": "WnHMDi4Q1Xyp"
   },
   "outputs": [],
   "source": [
    "import data_preparation as dp #importing data_preparation.py file"
   ]
  },
  {
   "cell_type": "markdown",
   "metadata": {
    "colab_type": "text",
    "id": "Ni20htxeMjIv"
   },
   "source": [
    "#### Transforming numerical into categorical variable"
   ]
  },
  {
   "cell_type": "markdown",
   "metadata": {
    "colab_type": "text",
    "id": "Ybnwwi3Fe4id"
   },
   "source": [
    "MSSubClass is the building class and categorical variable."
   ]
  },
  {
   "cell_type": "code",
   "execution_count": 2569,
   "metadata": {
    "colab": {
     "base_uri": "https://localhost:8080/",
     "height": 34
    },
    "colab_type": "code",
    "id": "4JL0xyOR1Xyt",
    "outputId": "de6ae6ab-06b2-405b-c8b7-8bf47752ef8a"
   },
   "outputs": [
    {
     "data": {
      "text/plain": [
       "<module 'data_preparation' from '/content/data_preparation.py'>"
      ]
     },
     "execution_count": 2569,
     "metadata": {
      "tags": []
     },
     "output_type": "execute_result"
    }
   ],
   "source": [
    "from importlib import reload \n",
    "reload(dp)#reloading in case of any change of the file"
   ]
  },
  {
   "cell_type": "code",
   "execution_count": 2570,
   "metadata": {
    "colab": {
     "base_uri": "https://localhost:8080/",
     "height": 34
    },
    "colab_type": "code",
    "id": "_w1Gp6Pd1Xy4",
    "outputId": "8e634089-2ddc-4fdd-e296-4f657196ec0c"
   },
   "outputs": [
    {
     "data": {
      "text/plain": [
       "['Number of unique values for MSSubClass :16']"
      ]
     },
     "execution_count": 2570,
     "metadata": {
      "tags": []
     },
     "output_type": "execute_result"
    }
   ],
   "source": [
    "#this column should be categorical and not numerical\n",
    "col_names=['MSSubClass']\n",
    "[dp.number_unique_col(houses_data,col) for col in col_names]"
   ]
  },
  {
   "cell_type": "code",
   "execution_count": 2571,
   "metadata": {
    "colab": {
     "base_uri": "https://localhost:8080/",
     "height": 34
    },
    "colab_type": "code",
    "id": "vdmhDdWg1XzA",
    "outputId": "43e11a74-d547-41b2-b37a-7a7889979040"
   },
   "outputs": [
    {
     "data": {
      "text/plain": [
       "dtype('int64')"
      ]
     },
     "execution_count": 2571,
     "metadata": {
      "tags": []
     },
     "output_type": "execute_result"
    }
   ],
   "source": [
    "houses_data.MSSubClass.dtype #before method"
   ]
  },
  {
   "cell_type": "code",
   "execution_count": 0,
   "metadata": {
    "colab": {},
    "colab_type": "code",
    "id": "gYLuK6HR1XzG"
   },
   "outputs": [],
   "source": [
    "houses_data=dp.convert_to_categorical(houses_data,col_names)#calling method convert_to_categorical from the module"
   ]
  },
  {
   "cell_type": "code",
   "execution_count": 2573,
   "metadata": {
    "colab": {
     "base_uri": "https://localhost:8080/",
     "height": 34
    },
    "colab_type": "code",
    "id": "VMCuLLe41XzL",
    "outputId": "9fb99a3b-18cb-4fff-dfd3-3a00f78e2199"
   },
   "outputs": [
    {
     "data": {
      "text/plain": [
       "dtype('O')"
      ]
     },
     "execution_count": 2573,
     "metadata": {
      "tags": []
     },
     "output_type": "execute_result"
    }
   ],
   "source": [
    "houses_data.MSSubClass.dtype #after method --> checking if method worked"
   ]
  },
  {
   "cell_type": "markdown",
   "metadata": {
    "colab_type": "text",
    "id": "iSsqOMur1Xz9"
   },
   "source": [
    "There are different ways to handle the missing values(**NaN** values). The first one is to **drop the columns** with missing values. The second one is to **drop the rows** with the missing values, and third is to **impute** those missing values."
   ]
  },
  {
   "cell_type": "markdown",
   "metadata": {
    "colab_type": "text",
    "id": "8C1ryZ0F1X0H"
   },
   "source": [
    "## Target Variable\n",
    "\n",
    "The analysis of the variable we need to predict"
   ]
  },
  {
   "cell_type": "code",
   "execution_count": 2574,
   "metadata": {
    "colab": {
     "base_uri": "https://localhost:8080/",
     "height": 168
    },
    "colab_type": "code",
    "id": "sZ8A-oNt1X0J",
    "outputId": "78d5c0ce-9c87-4350-8b23-f7a738aa493e"
   },
   "outputs": [
    {
     "data": {
      "text/plain": [
       "count      1460.000000\n",
       "mean     180921.195890\n",
       "std       79442.502883\n",
       "min       34900.000000\n",
       "25%      129975.000000\n",
       "50%      163000.000000\n",
       "75%      214000.000000\n",
       "max      755000.000000\n",
       "Name: SalePrice, dtype: float64"
      ]
     },
     "execution_count": 2574,
     "metadata": {
      "tags": []
     },
     "output_type": "execute_result"
    }
   ],
   "source": [
    "train_data['SalePrice'].describe()"
   ]
  },
  {
   "cell_type": "markdown",
   "metadata": {
    "colab_type": "text",
    "id": "cXbBjXSjM9Eu"
   },
   "source": [
    "House prices range from 34 900 to 755 000. The median value is 163 000."
   ]
  },
  {
   "cell_type": "code",
   "execution_count": 2575,
   "metadata": {
    "colab": {
     "base_uri": "https://localhost:8080/",
     "height": 34
    },
    "colab_type": "code",
    "id": "MX3DBcZE1X0V",
    "outputId": "58c726c8-15c3-491b-e1df-cd56a0d40f86"
   },
   "outputs": [
    {
     "name": "stdout",
     "output_type": "stream",
     "text": [
      "kurtosis 6.509812011089439 skewness 1.880940746034036\n"
     ]
    }
   ],
   "source": [
    "print('kurtosis',kurtosis(train_data.SalePrice),'skewness',\n",
    "skew(train_data.SalePrice)) "
   ]
  },
  {
   "cell_type": "markdown",
   "metadata": {
    "colab_type": "text",
    "id": "hSU85DQdM9FA"
   },
   "source": [
    "The distribution of the target variable is positively skewed."
   ]
  },
  {
   "cell_type": "code",
   "execution_count": 2576,
   "metadata": {
    "colab": {
     "base_uri": "https://localhost:8080/",
     "height": 300
    },
    "colab_type": "code",
    "id": "b0ODO9Ly1X0d",
    "outputId": "c903286b-fade-4aff-cedb-4be8d6fcc7d1"
   },
   "outputs": [
    {
     "data": {
      "text/plain": [
       "<matplotlib.axes._subplots.AxesSubplot at 0x7f8a04edd860>"
      ]
     },
     "execution_count": 2576,
     "metadata": {
      "tags": []
     },
     "output_type": "execute_result"
    },
    {
     "data": {
      "image/png": "[encoded data removed]",
      "text/plain": [
       "<Figure size 432x288 with 1 Axes>"
      ]
     },
     "metadata": {
      "tags": []
     },
     "output_type": "display_data"
    }
   ],
   "source": [
    "sns.distplot(train_data.SalePrice,color=\"orchid\",fit=normal)"
   ]
  },
  {
   "cell_type": "markdown",
   "metadata": {
    "colab_type": "text",
    "id": "t10XtKDg1X0k"
   },
   "source": [
    "\"Multiple regression works most reliably when the target variable is aproximately **normally distributed** .\"\n",
    "\n",
    "As we can see in the graph above, it is not fitting the normal distribution so we need to transform it by taking a log of its value plus 1 (Plus 1 is added to prevent cases when value is 0 and log from 0 is undefined).\n",
    "\n",
    "After the log transformation we can see that transformed value of SalePrice is now closer to the normal probability distribution function.\n",
    "\n",
    "We will first perform the log-transform of the target variable in order to improve the linearity of the data. Afterwards, predictions of the final model should be converted to their original form."
   ]
  },
  {
   "cell_type": "markdown",
   "metadata": {
    "colab_type": "text",
    "id": "7wWudznAM9FR"
   },
   "source": [
    "### Transforming the dependent(target) variable"
   ]
  },
  {
   "cell_type": "code",
   "execution_count": 2577,
   "metadata": {
    "colab": {
     "base_uri": "https://localhost:8080/",
     "height": 300
    },
    "colab_type": "code",
    "id": "CyPL7zFp1X0m",
    "outputId": "0f8ba6d5-124d-461e-c34c-e6566e291d32"
   },
   "outputs": [
    {
     "data": {
      "text/plain": [
       "<matplotlib.axes._subplots.AxesSubplot at 0x7f8a04ea5978>"
      ]
     },
     "execution_count": 2577,
     "metadata": {
      "tags": []
     },
     "output_type": "execute_result"
    },
    {
     "data": {
      "image/png": "[encoded data removed]",
      "text/plain": [
       "<Figure size 432x288 with 1 Axes>"
      ]
     },
     "metadata": {
      "tags": []
     },
     "output_type": "display_data"
    }
   ],
   "source": [
    "sns.distplot(np.log1p(train_data.SalePrice),color=\"orchid\",fit=normal)"
   ]
  },
  {
   "cell_type": "code",
   "execution_count": 0,
   "metadata": {
    "colab": {},
    "colab_type": "code",
    "id": "eRm_LfYE1X0x"
   },
   "outputs": [],
   "source": [
    "houses_data.SalePrice=np.log1p(houses_data.SalePrice)#log1p is used cause log of 0 is not defined, goes to minus infinity"
   ]
  },
  {
   "cell_type": "markdown",
   "metadata": {
    "colab_type": "text",
    "id": "Eg4VN9aKe4jB"
   },
   "source": [
    "Just for the part of test_data since we are filling the NAN values for merged dataframe(train_data+test_data)"
   ]
  },
  {
   "cell_type": "code",
   "execution_count": 0,
   "metadata": {
    "colab": {},
    "colab_type": "code",
    "id": "NGcSh8Wxe4jC"
   },
   "outputs": [],
   "source": [
    "houses_data.SalePrice=houses_data.SalePrice.fillna(0) "
   ]
  },
  {
   "cell_type": "markdown",
   "metadata": {
    "colab_type": "text",
    "id": "6IsNOkm01X1d"
   },
   "source": [
    "### Imputing missing values\n"
   ]
  },
  {
   "cell_type": "code",
   "execution_count": 2580,
   "metadata": {
    "colab": {
     "base_uri": "https://localhost:8080/",
     "height": 605
    },
    "colab_type": "code",
    "id": "TlicQylg1X1u",
    "outputId": "98194848-688e-43b4-88a8-021d3d7f69aa",
    "scrolled": true
   },
   "outputs": [
    {
     "data": {
      "text/plain": [
       "PoolQC          99.657417\n",
       "MiscFeature     96.402878\n",
       "Alley           93.216855\n",
       "Fence           80.438506\n",
       "FireplaceQu     48.646797\n",
       "LotFrontage     16.649538\n",
       "GarageCond       5.447071\n",
       "GarageFinish     5.447071\n",
       "GarageQual       5.447071\n",
       "GarageYrBlt      5.447071\n",
       "GarageType       5.378554\n",
       "BsmtCond         2.809181\n",
       "BsmtExposure     2.809181\n",
       "BsmtQual         2.774923\n",
       "BsmtFinType2     2.740665\n",
       "BsmtFinType1     2.706406\n",
       "MasVnrType       0.822199\n",
       "MasVnrArea       0.787941\n",
       "MSZoning         0.137033\n",
       "BsmtFullBath     0.068517\n",
       "BsmtHalfBath     0.068517\n",
       "Functional       0.068517\n",
       "Utilities        0.068517\n",
       "Electrical       0.034258\n",
       "KitchenQual      0.034258\n",
       "Exterior2nd      0.034258\n",
       "Exterior1st      0.034258\n",
       "GarageCars       0.034258\n",
       "GarageArea       0.034258\n",
       "TotalBsmtSF      0.034258\n",
       "BsmtUnfSF        0.034258\n",
       "BsmtFinSF2       0.034258\n",
       "BsmtFinSF1       0.034258\n",
       "SaleType         0.034258\n",
       "dtype: float64"
      ]
     },
     "execution_count": 2580,
     "metadata": {
      "tags": []
     },
     "output_type": "execute_result"
    }
   ],
   "source": [
    "#Check frequency of NaN values\n",
    "is_null_cols=houses_data.isnull()\n",
    "a=(is_null_cols.sum()/len(is_null_cols)*100).sort_values(axis=0, ascending=False) \n",
    "a[a.apply(lambda x: x>0)]"
   ]
  },
  {
   "cell_type": "code",
   "execution_count": 2581,
   "metadata": {
    "colab": {
     "base_uri": "https://localhost:8080/",
     "height": 686
    },
    "colab_type": "code",
    "id": "8fx_knQh1X19",
    "outputId": "329e1fc6-cb10-4658-f87e-ca2ece836e8c"
   },
   "outputs": [
    {
     "data": {
      "text/plain": [
       "Text(0.5, 1.0, 'Attributes with NAN values')"
      ]
     },
     "execution_count": 2581,
     "metadata": {
      "tags": []
     },
     "output_type": "execute_result"
    },
    {
     "data": {
      "image/png": "[encoded data removed]",
      "text/plain": [
       "<Figure size 720x720 with 1 Axes>"
      ]
     },
     "metadata": {
      "tags": []
     },
     "output_type": "display_data"
    }
   ],
   "source": [
    "nan_df=a[a.apply(lambda x: x>0)]\n",
    "colors = dict(mcolors.BASE_COLORS, **mcolors.CSS4_COLORS) #list of colors\n",
    "cols=random.sample(list(colors.keys()),len(nan_df)) #take random color sample from colors list->length of sample is number of accepted configurations\n",
    "\n",
    "plt.figure(figsize=(10, 10))\n",
    "nan_df.plot(kind = \"bar\",colors=cols)\n",
    "plt.title(\"Attributes with NAN values\")"
   ]
  },
  {
   "cell_type": "code",
   "execution_count": 2582,
   "metadata": {
    "colab": {
     "base_uri": "https://localhost:8080/",
     "height": 34
    },
    "colab_type": "code",
    "id": "ci_4FcDuuG87",
    "outputId": "2280b10e-0c11-424b-bc96-0b7f59aa3f1a"
   },
   "outputs": [
    {
     "data": {
      "text/plain": [
       "Index(['PoolQC', 'MiscFeature', 'Alley', 'Fence', 'FireplaceQu'], dtype='object')"
      ]
     },
     "execution_count": 2582,
     "metadata": {
      "tags": []
     },
     "output_type": "execute_result"
    }
   ],
   "source": [
    "nan_df[nan_df>48].index"
   ]
  },
  {
   "cell_type": "markdown",
   "metadata": {
    "colab_type": "text",
    "id": "TV9p7SIMe4jO"
   },
   "source": [
    "Removing attributes with a number of NaN values **> 48%**"
   ]
  },
  {
   "cell_type": "code",
   "execution_count": 0,
   "metadata": {
    "colab": {},
    "colab_type": "code",
    "id": "XXlFr-VfhyNC"
   },
   "outputs": [],
   "source": [
    "drop_cols=nan_df[nan_df>48].index\n",
    "houses_data.drop(drop_cols,axis=1,inplace=True)"
   ]
  },
  {
   "cell_type": "markdown",
   "metadata": {
    "colab_type": "text",
    "id": "PTVFHKYEe4jR"
   },
   "source": [
    "#### Number of NaN values for the rest of the columns"
   ]
  },
  {
   "cell_type": "code",
   "execution_count": 2584,
   "metadata": {
    "colab": {
     "base_uri": "https://localhost:8080/",
     "height": 521
    },
    "colab_type": "code",
    "id": "VSgIJqac1X2k",
    "outputId": "325aa9fa-622c-484c-8f35-c43578b40c3c"
   },
   "outputs": [
    {
     "data": {
      "text/plain": [
       "LotFrontage     486\n",
       "GarageYrBlt     159\n",
       "GarageQual      159\n",
       "GarageFinish    159\n",
       "GarageCond      159\n",
       "GarageType      157\n",
       "BsmtCond         82\n",
       "BsmtExposure     82\n",
       "BsmtQual         81\n",
       "BsmtFinType2     80\n",
       "BsmtFinType1     79\n",
       "MasVnrType       24\n",
       "MasVnrArea       23\n",
       "MSZoning          4\n",
       "BsmtFullBath      2\n",
       "BsmtHalfBath      2\n",
       "Utilities         2\n",
       "Functional        2\n",
       "Exterior1st       1\n",
       "Electrical        1\n",
       "BsmtUnfSF         1\n",
       "Exterior2nd       1\n",
       "TotalBsmtSF       1\n",
       "GarageCars        1\n",
       "KitchenQual       1\n",
       "BsmtFinSF2        1\n",
       "BsmtFinSF1        1\n",
       "SaleType          1\n",
       "GarageArea        1\n",
       "dtype: int64"
      ]
     },
     "execution_count": 2584,
     "metadata": {
      "tags": []
     },
     "output_type": "execute_result"
    }
   ],
   "source": [
    "x=houses_data.isnull().sum()\n",
    "x[x>0].sort_values(ascending=False)"
   ]
  },
  {
   "cell_type": "code",
   "execution_count": 0,
   "metadata": {
    "colab": {},
    "colab_type": "code",
    "id": "4IlNkiO21X2o"
   },
   "outputs": [],
   "source": [
    "'''\n",
    "fill_with_zero - fills NaNs with 0\n",
    "fill_with_none - fills NaNs with 'None'\n",
    "'''\n",
    "zero_cols=[\"GarageCars\",\"GarageArea\",\"GarageYrBlt\",'MasVnrArea',\n",
    "           'BsmtFinSF1', 'BsmtFinSF2', 'BsmtUnfSF','TotalBsmtSF', \n",
    "           'BsmtFullBath', 'BsmtHalfBath']\n",
    "houses_data=dp.fill_with_zero(houses_data,zero_cols)\n",
    "\n",
    "none_cols=[\"BsmtQual\",\"BsmtCond\",\"GarageFinish\",'GarageQual',\n",
    "           \"BsmtExposure\",\"BsmtFinType1\",\"BsmtFinType2\",\n",
    "           \"GarageType\",\"GarageCond\",'MasVnrType']\n",
    "houses_data=dp.fill_with_none(houses_data,none_cols)"
   ]
  },
  {
   "cell_type": "markdown",
   "metadata": {
    "colab_type": "text",
    "id": "xBOBc2Me1X2o"
   },
   "source": [
    "**GarageYrBlt, GarageCars, GarageArea**      \n",
    "\n",
    "Context in which information is used is very important. If NaN in the column GarageArea is replaced with 0, it means that there is **NO garage** therefore it is not possible that year of building (GarageYrBlt) exists. \n",
    "In other words:\n",
    "    if GarageArea is 0; GarageCars and GarageYrBlt must be also."
   ]
  },
  {
   "cell_type": "code",
   "execution_count": 2586,
   "metadata": {
    "colab": {
     "base_uri": "https://localhost:8080/",
     "height": 34
    },
    "colab_type": "code",
    "id": "j_7wo8ftEHay",
    "outputId": "ccc75e4e-8493-4c9a-de2a-9f58503ce94f"
   },
   "outputs": [
    {
     "data": {
      "text/plain": [
       "array([0.])"
      ]
     },
     "execution_count": 2586,
     "metadata": {
      "tags": []
     },
     "output_type": "execute_result"
    }
   ],
   "source": [
    "np.unique(houses_data.iloc[np.where((houses_data.GarageArea==0))].loc[:,['GarageYrBlt','GarageCars']])"
   ]
  },
  {
   "cell_type": "code",
   "execution_count": 0,
   "metadata": {
    "colab": {},
    "colab_type": "code",
    "id": "CBpxsuQ5M9Ii"
   },
   "outputs": [],
   "source": [
    "# Columns whose NaN values will be imputed with the most frequent values in the same column\n",
    "top_cols=['Electrical','Exterior1st','Exterior2nd','KitchenQual','SaleType','MSZoning',\"Functional\"]\n",
    "houses_data=dp.fill_top(houses_data,top_cols)"
   ]
  },
  {
   "cell_type": "markdown",
   "metadata": {
    "colab_type": "text",
    "id": "2akrPXP9EHbR"
   },
   "source": [
    "Change described quality grade to numbers\n",
    "\n",
    "     {\"None\": 0, \"Po\": 1, \"Fa\": 2, \"TA\": 3, \"Gd\": 4, \"Ex\": 5}"
   ]
  },
  {
   "cell_type": "code",
   "execution_count": 0,
   "metadata": {
    "colab": {},
    "colab_type": "code",
    "id": "Hgl0dpF3e4jf"
   },
   "outputs": [],
   "source": [
    "houses_data.LotFrontage.fillna(np.mean(houses_data.LotFrontage),inplace=True)"
   ]
  },
  {
   "cell_type": "code",
   "execution_count": 0,
   "metadata": {
    "colab": {},
    "colab_type": "code",
    "id": "SycxwmkxEHbS"
   },
   "outputs": [],
   "source": [
    "qual_cols=['ExterQual','ExterCond','BsmtQual','BsmtCond','KitchenQual','GarageQual','GarageCond',\\\n",
    "          'HeatingQC']\n",
    "for qc in qual_cols:\n",
    "    dp.mapping_dict(qc,houses_data)"
   ]
  },
  {
   "cell_type": "code",
   "execution_count": 0,
   "metadata": {
    "colab": {},
    "colab_type": "code",
    "id": "frWGNJMp1X3y"
   },
   "outputs": [],
   "source": [
    "houses_data[\"BsmtExposure\"] = houses_data[\"BsmtExposure\"].map({'None': 0, \"No\": 1, \"Mn\": 2, \"Av\": 3, \"Gd\": 4}).astype(int)"
   ]
  },
  {
   "cell_type": "code",
   "execution_count": 0,
   "metadata": {
    "colab": {},
    "colab_type": "code",
    "id": "6FkRLU3I1X4N"
   },
   "outputs": [],
   "source": [
    "#Utilities : For this categorical feature all records are \"AllPub\", except for one \"NoSeWa\" and 2 NA . Since the house with 'NoSewa' is in the training set, this feature won't help in predictive modelling. We can then safely remove it.\n",
    "houses_data = houses_data.drop(['Utilities'], axis=1)"
   ]
  },
  {
   "cell_type": "markdown",
   "metadata": {
    "colab_type": "text",
    "id": "MwiO0dKF1XyL"
   },
   "source": [
    "# Data Preparation (Feature engineering)"
   ]
  },
  {
   "cell_type": "code",
   "execution_count": 2592,
   "metadata": {
    "colab": {
     "base_uri": "https://localhost:8080/",
     "height": 34
    },
    "colab_type": "code",
    "id": "9gzE039Te4jq",
    "outputId": "ea44fd7a-13c2-49a0-9a0c-afb489bc50e0"
   },
   "outputs": [
    {
     "data": {
      "text/plain": [
       "0"
      ]
     },
     "execution_count": 2592,
     "metadata": {
      "tags": []
     },
     "output_type": "execute_result"
    }
   ],
   "source": [
    "#Check are there still any NaN values left\n",
    "houses_data.isna().sum().sum()"
   ]
  },
  {
   "cell_type": "code",
   "execution_count": 2593,
   "metadata": {
    "colab": {
     "base_uri": "https://localhost:8080/",
     "height": 84
    },
    "colab_type": "code",
    "id": "g40PE6JgNDLA",
    "outputId": "6a4e54be-d5e5-49c4-f6f3-4d615cf84f12"
   },
   "outputs": [
    {
     "data": {
      "text/plain": [
       "Index(['2ndFlrSF', 'BsmtFinSF1', 'GarageArea', 'GarageYrBlt', 'GrLivArea',\n",
       "       'MasVnrArea', 'ScreenPorch', 'TotalBsmtSF', 'WoodDeckSF', 'YearBuilt',\n",
       "       'YearRemodAdd'],\n",
       "      dtype='object')"
      ]
     },
     "execution_count": 2593,
     "metadata": {
      "tags": []
     },
     "output_type": "execute_result"
    }
   ],
   "source": [
    "#Check for some important numerical features\n",
    "x=train_data.shape[0]\n",
    "train_data=houses_data.select_dtypes(exclude=['object'])[:x]\n",
    "\n",
    "y=train_data.SalePrice\n",
    "x=train_data.drop(['SalePrice'],axis=1)\n",
    "\n",
    "x_train=x\n",
    "y_train=y\n",
    "\n",
    "#Features importance via featureSelection library\n",
    "estimator  = Lasso()\n",
    "featureSelection = SelectFromModel(estimator)\n",
    "featureSelection.fit(x_train, y_train)\n",
    "\n",
    "selectedFeatures = featureSelection.transform(x_train)\n",
    "selectedFeatures\n",
    "\n",
    "relevant_features=x_train.columns[featureSelection.get_support()]\n",
    "relevant_features"
   ]
  },
  {
   "cell_type": "markdown",
   "metadata": {
    "colab_type": "text",
    "id": "uDGbEJxLrNFr"
   },
   "source": [
    "We can see some of the important numerical features using a method **SelectFromModel** from the featureSelection library.\n",
    "\n",
    "This method is a meta-transformer for selecting features and it is based on importance weights."
   ]
  },
  {
   "cell_type": "markdown",
   "metadata": {
    "colab_type": "text",
    "id": "AgvrYlCze4jw"
   },
   "source": [
    "Additionally, we created new attributes:\n",
    "\n",
    "**TotalSuperficial**\n",
    "\n",
    "               TotalSuperficial = TotalBsmtSF + 1stFlrSF + 2ndFlrSF\n",
    "**TotalBsmtBath**\n",
    "\n",
    "                TotalBsmtBath = BsmtFullBath + BsmtHalfBath\n",
    "\n",
    "After creating the above mentioned features we dropped the features used to derive them."
   ]
  },
  {
   "cell_type": "code",
   "execution_count": 0,
   "metadata": {
    "colab": {},
    "colab_type": "code",
    "id": "Z_SiACcsrLga"
   },
   "outputs": [],
   "source": [
    "houses_data['TotalSuperficial'] = houses_data['TotalBsmtSF'] + houses_data['1stFlrSF'] + houses_data['2ndFlrSF']\n",
    "\n",
    "houses_data['TotalBsmtBath'] = houses_data['BsmtFullBath'] + houses_data['BsmtHalfBath']\n",
    "\n",
    "to_drop=['TotalBsmtSF','1stFlrSF','2ndFlrSF','BsmtFullBath','BsmtHalfBath']\n",
    "houses_data=houses_data.drop(to_drop,axis=1)"
   ]
  },
  {
   "cell_type": "markdown",
   "metadata": {
    "colab_type": "text",
    "id": "I-UpNLLce4jy"
   },
   "source": [
    "**Mutual information (MI)** between two random variables is a non-negative value, which measures the dependency between the variables. It is equal to zero if and only if two random variables are independent, and higher values mean higher dependency."
   ]
  },
  {
   "cell_type": "code",
   "execution_count": 0,
   "metadata": {
    "colab": {},
    "colab_type": "code",
    "id": "ldLXwjARe4jz"
   },
   "outputs": [],
   "source": [
    "x=train_data.shape[0]\n",
    "train_data=houses_data.select_dtypes(exclude=['object'])[:x] \n",
    "\n",
    "y=train_data.SalePrice\n",
    "x=train_data.drop(['SalePrice'],axis=1)\n",
    "\n",
    "x_train=x\n",
    "y_train=y\n",
    "\n",
    "mi_df2=pd.DataFrame()\n",
    "mi_df2['cols']=pd.Series(x.columns)\n",
    "mi_df2['MI']=pd.Series(mutual_info_regression(x,y))\n",
    "mi_df2['MI']=mi_df2['MI'].apply(lambda x:round(x,3))"
   ]
  },
  {
   "cell_type": "markdown",
   "metadata": {
    "colab_type": "text",
    "id": "ExUMmH7Fe4j2"
   },
   "source": [
    "From the table below we can see the expected results that numerical features which are the most significant ones for predicting SalePrice are TotalSuperficial, OverallQual, GrLivArea, YearBuilt."
   ]
  },
  {
   "cell_type": "code",
   "execution_count": 2596,
   "metadata": {
    "colab": {
     "base_uri": "https://localhost:8080/",
     "height": 343
    },
    "colab_type": "code",
    "id": "O-UwOs_OydLa",
    "outputId": "701e2dd9-cfa0-4be2-dd9f-af09ed8c9ea0"
   },
   "outputs": [
    {
     "data": {
      "text/html": [
       "<div>\n",
       "<style scoped>\n",
       "    .dataframe tbody tr th:only-of-type {\n",
       "        vertical-align: middle;\n",
       "    }\n",
       "\n",
       "    .dataframe tbody tr th {\n",
       "        vertical-align: top;\n",
       "    }\n",
       "\n",
       "    .dataframe thead th {\n",
       "        text-align: right;\n",
       "    }\n",
       "</style>\n",
       "<table border=\"1\" class=\"dataframe\">\n",
       "  <thead>\n",
       "    <tr style=\"text-align: right;\">\n",
       "      <th></th>\n",
       "      <th>cols</th>\n",
       "      <th>MI</th>\n",
       "    </tr>\n",
       "  </thead>\n",
       "  <tbody>\n",
       "    <tr>\n",
       "      <th>39</th>\n",
       "      <td>TotalSuperficial</td>\n",
       "      <td>0.684</td>\n",
       "    </tr>\n",
       "    <tr>\n",
       "      <th>31</th>\n",
       "      <td>OverallQual</td>\n",
       "      <td>0.558</td>\n",
       "    </tr>\n",
       "    <tr>\n",
       "      <th>18</th>\n",
       "      <td>GrLivArea</td>\n",
       "      <td>0.458</td>\n",
       "    </tr>\n",
       "    <tr>\n",
       "      <th>36</th>\n",
       "      <td>YearBuilt</td>\n",
       "      <td>0.362</td>\n",
       "    </tr>\n",
       "    <tr>\n",
       "      <th>13</th>\n",
       "      <td>GarageArea</td>\n",
       "      <td>0.361</td>\n",
       "    </tr>\n",
       "    <tr>\n",
       "      <th>14</th>\n",
       "      <td>GarageCars</td>\n",
       "      <td>0.360</td>\n",
       "    </tr>\n",
       "    <tr>\n",
       "      <th>22</th>\n",
       "      <td>KitchenQual</td>\n",
       "      <td>0.340</td>\n",
       "    </tr>\n",
       "    <tr>\n",
       "      <th>10</th>\n",
       "      <td>ExterQual</td>\n",
       "      <td>0.335</td>\n",
       "    </tr>\n",
       "    <tr>\n",
       "      <th>6</th>\n",
       "      <td>BsmtQual</td>\n",
       "      <td>0.326</td>\n",
       "    </tr>\n",
       "    <tr>\n",
       "      <th>12</th>\n",
       "      <td>FullBath</td>\n",
       "      <td>0.263</td>\n",
       "    </tr>\n",
       "  </tbody>\n",
       "</table>\n",
       "</div>"
      ],
      "text/plain": [
       "                cols     MI\n",
       "39  TotalSuperficial  0.684\n",
       "31       OverallQual  0.558\n",
       "18         GrLivArea  0.458\n",
       "36         YearBuilt  0.362\n",
       "13        GarageArea  0.361\n",
       "14        GarageCars  0.360\n",
       "22       KitchenQual  0.340\n",
       "10         ExterQual  0.335\n",
       "6           BsmtQual  0.326\n",
       "12          FullBath  0.263"
      ]
     },
     "execution_count": 2596,
     "metadata": {
      "tags": []
     },
     "output_type": "execute_result"
    }
   ],
   "source": [
    "mi_df2.sort_values('MI',ascending=False)[:10] #top ten"
   ]
  },
  {
   "cell_type": "code",
   "execution_count": 2597,
   "metadata": {
    "colab": {
     "base_uri": "https://localhost:8080/",
     "height": 343
    },
    "colab_type": "code",
    "id": "BBMnSAghJ1xx",
    "outputId": "b8b76a39-5fa0-4f37-d2ca-0c06ea956e0f"
   },
   "outputs": [
    {
     "data": {
      "text/html": [
       "<div>\n",
       "<style scoped>\n",
       "    .dataframe tbody tr th:only-of-type {\n",
       "        vertical-align: middle;\n",
       "    }\n",
       "\n",
       "    .dataframe tbody tr th {\n",
       "        vertical-align: top;\n",
       "    }\n",
       "\n",
       "    .dataframe thead th {\n",
       "        text-align: right;\n",
       "    }\n",
       "</style>\n",
       "<table border=\"1\" class=\"dataframe\">\n",
       "  <thead>\n",
       "    <tr style=\"text-align: right;\">\n",
       "      <th></th>\n",
       "      <th>column</th>\n",
       "      <th>percentage</th>\n",
       "      <th>MI</th>\n",
       "    </tr>\n",
       "  </thead>\n",
       "  <tbody>\n",
       "    <tr>\n",
       "      <th>32</th>\n",
       "      <td>PoolArea</td>\n",
       "      <td>0.995546</td>\n",
       "      <td>[0.0]</td>\n",
       "    </tr>\n",
       "    <tr>\n",
       "      <th>0</th>\n",
       "      <td>3SsnPorch</td>\n",
       "      <td>0.987324</td>\n",
       "      <td>[0.0]</td>\n",
       "    </tr>\n",
       "    <tr>\n",
       "      <th>25</th>\n",
       "      <td>LowQualFinSF</td>\n",
       "      <td>0.986297</td>\n",
       "      <td>[0.009]</td>\n",
       "    </tr>\n",
       "    <tr>\n",
       "      <th>27</th>\n",
       "      <td>MiscVal</td>\n",
       "      <td>0.964714</td>\n",
       "      <td>[0.0]</td>\n",
       "    </tr>\n",
       "    <tr>\n",
       "      <th>21</th>\n",
       "      <td>KitchenAbvGr</td>\n",
       "      <td>0.954094</td>\n",
       "      <td>[0.005]</td>\n",
       "    </tr>\n",
       "    <tr>\n",
       "      <th>34</th>\n",
       "      <td>ScreenPorch</td>\n",
       "      <td>0.912299</td>\n",
       "      <td>[0.0]</td>\n",
       "    </tr>\n",
       "    <tr>\n",
       "      <th>15</th>\n",
       "      <td>GarageCond</td>\n",
       "      <td>0.909215</td>\n",
       "      <td>[0.03]</td>\n",
       "    </tr>\n",
       "    <tr>\n",
       "      <th>2</th>\n",
       "      <td>BsmtCond</td>\n",
       "      <td>0.892771</td>\n",
       "      <td>[0.022]</td>\n",
       "    </tr>\n",
       "    <tr>\n",
       "      <th>16</th>\n",
       "      <td>GarageQual</td>\n",
       "      <td>0.892086</td>\n",
       "      <td>[0.05]</td>\n",
       "    </tr>\n",
       "    <tr>\n",
       "      <th>5</th>\n",
       "      <td>BsmtFinSF2</td>\n",
       "      <td>0.881124</td>\n",
       "      <td>[0.003]</td>\n",
       "    </tr>\n",
       "  </tbody>\n",
       "</table>\n",
       "</div>"
      ],
      "text/plain": [
       "          column  percentage       MI\n",
       "32      PoolArea    0.995546    [0.0]\n",
       "0      3SsnPorch    0.987324    [0.0]\n",
       "25  LowQualFinSF    0.986297  [0.009]\n",
       "27       MiscVal    0.964714    [0.0]\n",
       "21  KitchenAbvGr    0.954094  [0.005]\n",
       "34   ScreenPorch    0.912299    [0.0]\n",
       "15    GarageCond    0.909215   [0.03]\n",
       "2       BsmtCond    0.892771  [0.022]\n",
       "16    GarageQual    0.892086   [0.05]\n",
       "5     BsmtFinSF2    0.881124  [0.003]"
      ]
     },
     "execution_count": 2597,
     "metadata": {
      "tags": []
     },
     "output_type": "execute_result"
    }
   ],
   "source": [
    "data_copy=houses_data.copy().select_dtypes(exclude=['object']) \n",
    "\n",
    "all_cols=data_copy.columns\n",
    "value_percentage_n=pd.DataFrame()\n",
    "percentage=[]\n",
    "num_of_rows=data_copy.shape[0]\n",
    "# Calculating the percentage of repeated values in the column for numerical variables\n",
    "for col in all_cols:\n",
    "    percentage.append((np.max(data_copy[col].value_counts()))/num_of_rows)\n",
    "value_percentage_n['column']=all_cols\n",
    "value_percentage_n['percentage']=percentage\n",
    " \n",
    "\n",
    "mi_vals=[]\n",
    "\n",
    "y=houses_data.SalePrice\n",
    "x=data_copy\n",
    "\n",
    "x_train=x\n",
    "y_train=y\n",
    "\n",
    "# Calculating MI (mutual information) for numerical variables\n",
    "mi_df=pd.DataFrame()\n",
    "mi_df['cols']=pd.Series(x.columns)\n",
    "mi_df['MI']=pd.Series(mutual_info_regression(x,y))\n",
    "mi_df['MI']=mi_df['MI'].apply(lambda x:round(x,3))\n",
    "\n",
    "for c in all_cols:\n",
    "    mi_vals.append(mi_df[mi_df.cols==c].MI.values)\n",
    "value_percentage_n['MI']=mi_vals  \n",
    "value_percentage_n.sort_values('percentage',ascending=False)[:10]"
   ]
  },
  {
   "cell_type": "code",
   "execution_count": 2598,
   "metadata": {
    "colab": {
     "base_uri": "https://localhost:8080/",
     "height": 739
    },
    "colab_type": "code",
    "id": "UIx6zV-Ne4j8",
    "outputId": "3fd7a0ec-d459-4e5b-c2fa-d93ac79eefcf"
   },
   "outputs": [
    {
     "data": {
      "text/plain": [
       "SalePrice           1.000000\n",
       "TotRmsAbvGrd        0.060575\n",
       "LotArea             0.054992\n",
       "GrLivArea           0.053188\n",
       "TotalSuperficial    0.050609\n",
       "YearRemodAdd        0.047303\n",
       "MoSold              0.041959\n",
       "Fireplaces          0.040783\n",
       "LotFrontage         0.040212\n",
       "BsmtCond            0.037371\n",
       "3SsnPorch           0.034153\n",
       "OverallQual         0.033856\n",
       "BsmtQual            0.032449\n",
       "GarageQual          0.025175\n",
       "MasVnrArea          0.023926\n",
       "GarageCars          0.023594\n",
       "KitchenQual         0.023500\n",
       "LowQualFinSF        0.023454\n",
       "GarageArea          0.022663\n",
       "BsmtUnfSF           0.022546\n",
       "EnclosedPorch       0.022505\n",
       "ExterQual           0.020876\n",
       "YearBuilt           0.017921\n",
       "BsmtExposure        0.017707\n",
       "BsmtFinSF2          0.017664\n",
       "BsmtFinSF1          0.017550\n",
       "PoolArea            0.016820\n",
       "YrSold              0.016244\n",
       "HalfBath            0.015604\n",
       "WoodDeckSF          0.015205\n",
       "BedroomAbvGr        0.014424\n",
       "FullBath            0.014357\n",
       "ScreenPorch         0.013822\n",
       "MiscVal             0.013504\n",
       "GarageCond          0.012048\n",
       "HeatingQC           0.008901\n",
       "OverallCond         0.008443\n",
       "GarageYrBlt         0.008073\n",
       "TotalBsmtBath       0.007362\n",
       "KitchenAbvGr        0.004475\n",
       "ExterCond           0.004051\n",
       "OpenPorchSF         0.001780\n",
       "Name: SalePrice, dtype: float64"
      ]
     },
     "execution_count": 2598,
     "metadata": {
      "tags": []
     },
     "output_type": "execute_result"
    }
   ],
   "source": [
    "houses_data.corr().SalePrice.abs().sort_values(ascending=False)"
   ]
  },
  {
   "cell_type": "code",
   "execution_count": 2600,
   "metadata": {
    "colab": {
     "base_uri": "https://localhost:8080/",
     "height": 343
    },
    "colab_type": "code",
    "id": "yileYLJWKu_X",
    "outputId": "8272842e-5863-4252-de22-d505e57dcbc5"
   },
   "outputs": [
    {
     "data": {
      "text/html": [
       "<div>\n",
       "<style scoped>\n",
       "    .dataframe tbody tr th:only-of-type {\n",
       "        vertical-align: middle;\n",
       "    }\n",
       "\n",
       "    .dataframe tbody tr th {\n",
       "        vertical-align: top;\n",
       "    }\n",
       "\n",
       "    .dataframe thead th {\n",
       "        text-align: right;\n",
       "    }\n",
       "</style>\n",
       "<table border=\"1\" class=\"dataframe\">\n",
       "  <thead>\n",
       "    <tr style=\"text-align: right;\">\n",
       "      <th></th>\n",
       "      <th>column</th>\n",
       "      <th>percentage</th>\n",
       "    </tr>\n",
       "  </thead>\n",
       "  <tbody>\n",
       "    <tr>\n",
       "      <th>28</th>\n",
       "      <td>Street</td>\n",
       "      <td>0.995889</td>\n",
       "    </tr>\n",
       "    <tr>\n",
       "      <th>5</th>\n",
       "      <td>Condition2</td>\n",
       "      <td>0.989723</td>\n",
       "    </tr>\n",
       "    <tr>\n",
       "      <th>24</th>\n",
       "      <td>RoofMatl</td>\n",
       "      <td>0.985269</td>\n",
       "    </tr>\n",
       "    <tr>\n",
       "      <th>13</th>\n",
       "      <td>Heating</td>\n",
       "      <td>0.984584</td>\n",
       "    </tr>\n",
       "    <tr>\n",
       "      <th>16</th>\n",
       "      <td>LandSlope</td>\n",
       "      <td>0.951696</td>\n",
       "    </tr>\n",
       "    <tr>\n",
       "      <th>3</th>\n",
       "      <td>CentralAir</td>\n",
       "      <td>0.932854</td>\n",
       "    </tr>\n",
       "    <tr>\n",
       "      <th>10</th>\n",
       "      <td>Functional</td>\n",
       "      <td>0.931483</td>\n",
       "    </tr>\n",
       "    <tr>\n",
       "      <th>6</th>\n",
       "      <td>Electrical</td>\n",
       "      <td>0.915382</td>\n",
       "    </tr>\n",
       "    <tr>\n",
       "      <th>23</th>\n",
       "      <td>PavedDrive</td>\n",
       "      <td>0.904762</td>\n",
       "    </tr>\n",
       "    <tr>\n",
       "      <th>15</th>\n",
       "      <td>LandContour</td>\n",
       "      <td>0.898253</td>\n",
       "    </tr>\n",
       "  </tbody>\n",
       "</table>\n",
       "</div>"
      ],
      "text/plain": [
       "         column  percentage\n",
       "28       Street    0.995889\n",
       "5    Condition2    0.989723\n",
       "24     RoofMatl    0.985269\n",
       "13      Heating    0.984584\n",
       "16    LandSlope    0.951696\n",
       "3    CentralAir    0.932854\n",
       "10   Functional    0.931483\n",
       "6    Electrical    0.915382\n",
       "23   PavedDrive    0.904762\n",
       "15  LandContour    0.898253"
      ]
     },
     "execution_count": 2600,
     "metadata": {
      "tags": []
     },
     "output_type": "execute_result"
    }
   ],
   "source": [
    "data_copy=houses_data.copy().select_dtypes(include=['object']) \n",
    "\n",
    "all_cols=data_copy.columns\n",
    "value_percentage_c=pd.DataFrame()\n",
    "percentage=[]\n",
    "num_of_rows=data_copy.shape[0]\n",
    "\n",
    "# Calculating the percentage of repeated values in the column for categorical variables\n",
    "for col in all_cols:\n",
    "    percentage.append((np.max(data_copy[col].value_counts()))/num_of_rows)\n",
    "value_percentage_c['column']=all_cols\n",
    "value_percentage_c['percentage']=percentage\n",
    "value_percentage_c.sort_values(['percentage'],ascending=False)[:10]"
   ]
  },
  {
   "cell_type": "code",
   "execution_count": 2601,
   "metadata": {
    "colab": {
     "base_uri": "https://localhost:8080/",
     "height": 739
    },
    "colab_type": "code",
    "id": "TQIw48JYe4kD",
    "outputId": "727f8cce-5d54-4d22-e24a-518064d21916"
   },
   "outputs": [
    {
     "data": {
      "text/plain": [
       "OpenPorchSF         0.001780\n",
       "ExterCond           0.004051\n",
       "KitchenAbvGr        0.004475\n",
       "TotalBsmtBath       0.007362\n",
       "GarageYrBlt         0.008073\n",
       "OverallCond         0.008443\n",
       "HeatingQC           0.008901\n",
       "GarageCond          0.012048\n",
       "MiscVal             0.013504\n",
       "ScreenPorch         0.013822\n",
       "FullBath            0.014357\n",
       "BedroomAbvGr        0.014424\n",
       "WoodDeckSF          0.015205\n",
       "HalfBath            0.015604\n",
       "YrSold              0.016244\n",
       "PoolArea            0.016820\n",
       "BsmtFinSF1          0.017550\n",
       "BsmtFinSF2          0.017664\n",
       "BsmtExposure        0.017707\n",
       "YearBuilt           0.017921\n",
       "ExterQual           0.020876\n",
       "EnclosedPorch       0.022505\n",
       "BsmtUnfSF           0.022546\n",
       "GarageArea          0.022663\n",
       "LowQualFinSF        0.023454\n",
       "KitchenQual         0.023500\n",
       "GarageCars          0.023594\n",
       "MasVnrArea          0.023926\n",
       "GarageQual          0.025175\n",
       "BsmtQual            0.032449\n",
       "OverallQual         0.033856\n",
       "3SsnPorch           0.034153\n",
       "BsmtCond            0.037371\n",
       "LotFrontage         0.040212\n",
       "Fireplaces          0.040783\n",
       "MoSold              0.041959\n",
       "YearRemodAdd        0.047303\n",
       "TotalSuperficial    0.050609\n",
       "GrLivArea           0.053188\n",
       "LotArea             0.054992\n",
       "TotRmsAbvGrd        0.060575\n",
       "SalePrice           1.000000\n",
       "Name: SalePrice, dtype: float64"
      ]
     },
     "execution_count": 2601,
     "metadata": {
      "tags": []
     },
     "output_type": "execute_result"
    }
   ],
   "source": [
    "#Linear dependency\n",
    "houses_data.corr().SalePrice.abs().sort_values(ascending=True)"
   ]
  },
  {
   "cell_type": "code",
   "execution_count": 2602,
   "metadata": {
    "colab": {
     "base_uri": "https://localhost:8080/",
     "height": 343
    },
    "colab_type": "code",
    "id": "ieu1yBdEKxgl",
    "outputId": "f14ae890-8a4f-4790-cf15-24de1e5655bb"
   },
   "outputs": [
    {
     "data": {
      "text/html": [
       "<div>\n",
       "<style scoped>\n",
       "    .dataframe tbody tr th:only-of-type {\n",
       "        vertical-align: middle;\n",
       "    }\n",
       "\n",
       "    .dataframe tbody tr th {\n",
       "        vertical-align: top;\n",
       "    }\n",
       "\n",
       "    .dataframe thead th {\n",
       "        text-align: right;\n",
       "    }\n",
       "</style>\n",
       "<table border=\"1\" class=\"dataframe\">\n",
       "  <thead>\n",
       "    <tr style=\"text-align: right;\">\n",
       "      <th></th>\n",
       "      <th>column</th>\n",
       "      <th>percentage</th>\n",
       "    </tr>\n",
       "  </thead>\n",
       "  <tbody>\n",
       "    <tr>\n",
       "      <th>28</th>\n",
       "      <td>Street</td>\n",
       "      <td>0.995889</td>\n",
       "    </tr>\n",
       "    <tr>\n",
       "      <th>5</th>\n",
       "      <td>Condition2</td>\n",
       "      <td>0.989723</td>\n",
       "    </tr>\n",
       "    <tr>\n",
       "      <th>24</th>\n",
       "      <td>RoofMatl</td>\n",
       "      <td>0.985269</td>\n",
       "    </tr>\n",
       "    <tr>\n",
       "      <th>13</th>\n",
       "      <td>Heating</td>\n",
       "      <td>0.984584</td>\n",
       "    </tr>\n",
       "    <tr>\n",
       "      <th>16</th>\n",
       "      <td>LandSlope</td>\n",
       "      <td>0.951696</td>\n",
       "    </tr>\n",
       "    <tr>\n",
       "      <th>3</th>\n",
       "      <td>CentralAir</td>\n",
       "      <td>0.932854</td>\n",
       "    </tr>\n",
       "    <tr>\n",
       "      <th>10</th>\n",
       "      <td>Functional</td>\n",
       "      <td>0.931483</td>\n",
       "    </tr>\n",
       "    <tr>\n",
       "      <th>6</th>\n",
       "      <td>Electrical</td>\n",
       "      <td>0.915382</td>\n",
       "    </tr>\n",
       "    <tr>\n",
       "      <th>23</th>\n",
       "      <td>PavedDrive</td>\n",
       "      <td>0.904762</td>\n",
       "    </tr>\n",
       "    <tr>\n",
       "      <th>15</th>\n",
       "      <td>LandContour</td>\n",
       "      <td>0.898253</td>\n",
       "    </tr>\n",
       "  </tbody>\n",
       "</table>\n",
       "</div>"
      ],
      "text/plain": [
       "         column  percentage\n",
       "28       Street    0.995889\n",
       "5    Condition2    0.989723\n",
       "24     RoofMatl    0.985269\n",
       "13      Heating    0.984584\n",
       "16    LandSlope    0.951696\n",
       "3    CentralAir    0.932854\n",
       "10   Functional    0.931483\n",
       "6    Electrical    0.915382\n",
       "23   PavedDrive    0.904762\n",
       "15  LandContour    0.898253"
      ]
     },
     "execution_count": 2602,
     "metadata": {
      "tags": []
     },
     "output_type": "execute_result"
    }
   ],
   "source": [
    "# The top 10 categorical variables with the most repeated values (for example in Street column 99% of records have the same value)\n",
    "value_percentage_c.sort_values('percentage',ascending=False)[:10]"
   ]
  },
  {
   "cell_type": "code",
   "execution_count": 2603,
   "metadata": {
    "colab": {
     "base_uri": "https://localhost:8080/",
     "height": 343
    },
    "colab_type": "code",
    "id": "iQvJgIy9e4kH",
    "outputId": "7c92e341-e855-4868-f882-071d3d0be6d9"
   },
   "outputs": [
    {
     "data": {
      "text/html": [
       "<div>\n",
       "<style scoped>\n",
       "    .dataframe tbody tr th:only-of-type {\n",
       "        vertical-align: middle;\n",
       "    }\n",
       "\n",
       "    .dataframe tbody tr th {\n",
       "        vertical-align: top;\n",
       "    }\n",
       "\n",
       "    .dataframe thead th {\n",
       "        text-align: right;\n",
       "    }\n",
       "</style>\n",
       "<table border=\"1\" class=\"dataframe\">\n",
       "  <thead>\n",
       "    <tr style=\"text-align: right;\">\n",
       "      <th></th>\n",
       "      <th>column</th>\n",
       "      <th>percentage</th>\n",
       "      <th>MI</th>\n",
       "    </tr>\n",
       "  </thead>\n",
       "  <tbody>\n",
       "    <tr>\n",
       "      <th>32</th>\n",
       "      <td>PoolArea</td>\n",
       "      <td>0.995546</td>\n",
       "      <td>[0.0]</td>\n",
       "    </tr>\n",
       "    <tr>\n",
       "      <th>0</th>\n",
       "      <td>3SsnPorch</td>\n",
       "      <td>0.987324</td>\n",
       "      <td>[0.0]</td>\n",
       "    </tr>\n",
       "    <tr>\n",
       "      <th>25</th>\n",
       "      <td>LowQualFinSF</td>\n",
       "      <td>0.986297</td>\n",
       "      <td>[0.009]</td>\n",
       "    </tr>\n",
       "    <tr>\n",
       "      <th>27</th>\n",
       "      <td>MiscVal</td>\n",
       "      <td>0.964714</td>\n",
       "      <td>[0.0]</td>\n",
       "    </tr>\n",
       "    <tr>\n",
       "      <th>21</th>\n",
       "      <td>KitchenAbvGr</td>\n",
       "      <td>0.954094</td>\n",
       "      <td>[0.005]</td>\n",
       "    </tr>\n",
       "    <tr>\n",
       "      <th>34</th>\n",
       "      <td>ScreenPorch</td>\n",
       "      <td>0.912299</td>\n",
       "      <td>[0.0]</td>\n",
       "    </tr>\n",
       "    <tr>\n",
       "      <th>15</th>\n",
       "      <td>GarageCond</td>\n",
       "      <td>0.909215</td>\n",
       "      <td>[0.03]</td>\n",
       "    </tr>\n",
       "    <tr>\n",
       "      <th>2</th>\n",
       "      <td>BsmtCond</td>\n",
       "      <td>0.892771</td>\n",
       "      <td>[0.022]</td>\n",
       "    </tr>\n",
       "    <tr>\n",
       "      <th>16</th>\n",
       "      <td>GarageQual</td>\n",
       "      <td>0.892086</td>\n",
       "      <td>[0.05]</td>\n",
       "    </tr>\n",
       "    <tr>\n",
       "      <th>5</th>\n",
       "      <td>BsmtFinSF2</td>\n",
       "      <td>0.881124</td>\n",
       "      <td>[0.003]</td>\n",
       "    </tr>\n",
       "  </tbody>\n",
       "</table>\n",
       "</div>"
      ],
      "text/plain": [
       "          column  percentage       MI\n",
       "32      PoolArea    0.995546    [0.0]\n",
       "0      3SsnPorch    0.987324    [0.0]\n",
       "25  LowQualFinSF    0.986297  [0.009]\n",
       "27       MiscVal    0.964714    [0.0]\n",
       "21  KitchenAbvGr    0.954094  [0.005]\n",
       "34   ScreenPorch    0.912299    [0.0]\n",
       "15    GarageCond    0.909215   [0.03]\n",
       "2       BsmtCond    0.892771  [0.022]\n",
       "16    GarageQual    0.892086   [0.05]\n",
       "5     BsmtFinSF2    0.881124  [0.003]"
      ]
     },
     "execution_count": 2603,
     "metadata": {
      "tags": []
     },
     "output_type": "execute_result"
    }
   ],
   "source": [
    "# The top 10 numerical variables with the most repeated values (for example in column PoorArea, 99% of records have the same value)\n",
    "value_percentage_n.sort_values('percentage',ascending=False)[:10]"
   ]
  },
  {
   "cell_type": "markdown",
   "metadata": {
    "colab_type": "text",
    "id": "7DZw7-Ane4kJ"
   },
   "source": [
    "We dropped the columns which have the same values in the majority of rows (more or equal than 90%)."
   ]
  },
  {
   "cell_type": "code",
   "execution_count": 2604,
   "metadata": {
    "colab": {
     "base_uri": "https://localhost:8080/",
     "height": 352
    },
    "colab_type": "code",
    "id": "VomCJj0pIp-S",
    "outputId": "eedea199-c010-4830-a342-12052fe6734a"
   },
   "outputs": [
    {
     "data": {
      "text/plain": [
       "<matplotlib.axes._subplots.AxesSubplot at 0x7f8a04d71e80>"
      ]
     },
     "execution_count": 2604,
     "metadata": {
      "tags": []
     },
     "output_type": "execute_result"
    },
    {
     "data": {
      "image/png": "[encoded data removed]",
      "text/plain": [
       "<Figure size 432x288 with 2 Axes>"
      ]
     },
     "metadata": {
      "tags": []
     },
     "output_type": "display_data"
    }
   ],
   "source": [
    "cc=houses_data.select_dtypes(exclude=['object']).iloc[:,:20].corr()\n",
    "sns.heatmap(cc)"
   ]
  },
  {
   "cell_type": "code",
   "execution_count": 0,
   "metadata": {
    "colab": {},
    "colab_type": "code",
    "id": "CbwPdCb14srQ"
   },
   "outputs": [],
   "source": [
    "remove_cols=['Condition2','RoofMatl','LandSlope','Functional','Electrical','LandContour',\n",
    "             'Heating','CentralAir'] #except for the 'Street'\n",
    "houses_data.drop(remove_cols,axis=1,inplace=True)"
   ]
  },
  {
   "cell_type": "code",
   "execution_count": 2606,
   "metadata": {
    "colab": {
     "base_uri": "https://localhost:8080/",
     "height": 352
    },
    "colab_type": "code",
    "id": "gNrROnX20qmY",
    "outputId": "32083281-3a7b-47d8-db2f-5bbfe72ce37f"
   },
   "outputs": [
    {
     "data": {
      "text/plain": [
       "<matplotlib.axes._subplots.AxesSubplot at 0x7f8a04c67828>"
      ]
     },
     "execution_count": 2606,
     "metadata": {
      "tags": []
     },
     "output_type": "execute_result"
    },
    {
     "data": {
      "image/png": "[encoded data removed]",
      "text/plain": [
       "<Figure size 432x288 with 2 Axes>"
      ]
     },
     "metadata": {
      "tags": []
     },
     "output_type": "display_data"
    }
   ],
   "source": [
    "cc=houses_data.select_dtypes(exclude=['object']).iloc[:,:20].corr()\n",
    "sns.heatmap(cc)"
   ]
  },
  {
   "cell_type": "code",
   "execution_count": 2607,
   "metadata": {
    "colab": {
     "base_uri": "https://localhost:8080/",
     "height": 151
    },
    "colab_type": "code",
    "id": "rEuc2X5uM5pB",
    "outputId": "1eba3619-0a4c-442e-f84e-99abceb0f363"
   },
   "outputs": [
    {
     "data": {
      "text/plain": [
       "GarageCond     1.000000\n",
       "GarageYrBlt    0.949602\n",
       "GarageQual     0.946656\n",
       "GarageCars     0.556232\n",
       "GarageArea     0.539521\n",
       "OverallQual    0.289864\n",
       "YearBuilt      0.278153\n",
       "Name: GarageCond, dtype: float64"
      ]
     },
     "execution_count": 2607,
     "metadata": {
      "tags": []
     },
     "output_type": "execute_result"
    }
   ],
   "source": [
    "houses_data.corr().GarageCond.abs().sort_values(ascending=False)[:7]"
   ]
  },
  {
   "cell_type": "code",
   "execution_count": 2608,
   "metadata": {
    "colab": {
     "base_uri": "https://localhost:8080/",
     "height": 34
    },
    "colab_type": "code",
    "id": "cifJP-ave4kS",
    "outputId": "cb730163-308f-4a6f-dd0a-d5ebb9decd5f"
   },
   "outputs": [
    {
     "data": {
      "text/plain": [
       "2919"
      ]
     },
     "execution_count": 2608,
     "metadata": {
      "tags": []
     },
     "output_type": "execute_result"
    }
   ],
   "source": [
    "len(houses_data.GarageCond==houses_data.GarageQual)"
   ]
  },
  {
   "cell_type": "markdown",
   "metadata": {
    "colab_type": "text",
    "id": "6Js0QACce4kV"
   },
   "source": [
    "Since GarageCond and GarageQual are highly correlated and almost always have the same value, we removed one in order to prevent multicolinearity issues.\n",
    "We will remove GarageCond."
   ]
  },
  {
   "cell_type": "code",
   "execution_count": 2609,
   "metadata": {
    "colab": {
     "base_uri": "https://localhost:8080/",
     "height": 101
    },
    "colab_type": "code",
    "id": "j-EIqADMR2pi",
    "outputId": "3e63d010-c734-494d-b6b0-79a3b6f1ffcb"
   },
   "outputs": [
    {
     "data": {
      "text/plain": [
       "Unf     1230\n",
       "RFn      811\n",
       "Fin      719\n",
       "None     159\n",
       "Name: GarageFinish, dtype: int64"
      ]
     },
     "execution_count": 2609,
     "metadata": {
      "tags": []
     },
     "output_type": "execute_result"
    }
   ],
   "source": [
    "houses_data.GarageFinish.value_counts()"
   ]
  },
  {
   "cell_type": "code",
   "execution_count": 0,
   "metadata": {
    "colab": {},
    "colab_type": "code",
    "id": "oDTExOuee4kV"
   },
   "outputs": [],
   "source": [
    "drop_garage_mc=['GarageCond','GarageFinish']\n",
    "houses_data.drop(drop_garage_mc,axis=1,inplace=True)"
   ]
  },
  {
   "cell_type": "code",
   "execution_count": 2611,
   "metadata": {
    "colab": {
     "base_uri": "https://localhost:8080/",
     "height": 34
    },
    "colab_type": "code",
    "id": "iw2grNsAe4kX",
    "outputId": "41ca6a20-0ed9-46cb-8ee2-e52160431b42"
   },
   "outputs": [
    {
     "data": {
      "text/plain": [
       "(2919, 61)"
      ]
     },
     "execution_count": 2611,
     "metadata": {
      "tags": []
     },
     "output_type": "execute_result"
    }
   ],
   "source": [
    "houses_data.shape"
   ]
  },
  {
   "cell_type": "code",
   "execution_count": 2612,
   "metadata": {
    "colab": {
     "base_uri": "https://localhost:8080/",
     "height": 151
    },
    "colab_type": "code",
    "id": "IgehD01bRwVZ",
    "outputId": "e00c0b33-5789-4f37-ac9a-cc18d368828e"
   },
   "outputs": [
    {
     "data": {
      "text/plain": [
       "GarageCars          1.000000\n",
       "GarageArea          0.889890\n",
       "OverallQual         0.600743\n",
       "GarageYrBlt         0.580432\n",
       "GarageQual          0.566567\n",
       "TotalSuperficial    0.551298\n",
       "YearBuilt           0.538611\n",
       "Name: GarageCars, dtype: float64"
      ]
     },
     "execution_count": 2612,
     "metadata": {
      "tags": []
     },
     "output_type": "execute_result"
    }
   ],
   "source": [
    "houses_data.corr().GarageCars.abs().sort_values(ascending=False)[:7] #GarageCars: Size of garage in car capacity"
   ]
  },
  {
   "cell_type": "code",
   "execution_count": 2613,
   "metadata": {
    "colab": {
     "base_uri": "https://localhost:8080/",
     "height": 486
    },
    "colab_type": "code",
    "id": "QoEYRJSOzS_T",
    "outputId": "467e39dd-add2-41a3-8c03-bb8f9d37f8ab"
   },
   "outputs": [
    {
     "data": {
      "text/plain": [
       "Index(['YearRemodAdd', 'YearBuilt', 'BsmtQual', 'TotalSuperficial',\n",
       "       'HeatingQC', 'GarageCars', 'GarageArea', 'FullBath', 'GrLivArea',\n",
       "       'MasVnrArea', 'BsmtExposure', 'OpenPorchSF', 'TotRmsAbvGrd',\n",
       "       'BsmtUnfSF', 'Fireplaces', 'BsmtFinSF1', 'GarageQual', 'WoodDeckSF',\n",
       "       'GarageYrBlt', 'HalfBath', 'BsmtCond', 'EnclosedPorch', 'LotFrontage',\n",
       "       'OverallCond', 'KitchenAbvGr', 'TotalBsmtBath', 'LowQualFinSF',\n",
       "       'LotArea', 'BsmtFinSF2', 'BedroomAbvGr', '3SsnPorch', 'ExterCond',\n",
       "       'MoSold', 'PoolArea', 'SalePrice', 'MiscVal', 'YrSold', 'ScreenPorch'],\n",
       "      dtype='object')"
      ]
     },
     "execution_count": 2613,
     "metadata": {
      "tags": []
     },
     "output_type": "execute_result"
    },
    {
     "data": {
      "image/png": "[encoded data removed]",
      "text/plain": [
       "<Figure size 432x288 with 2 Axes>"
      ]
     },
     "metadata": {
      "tags": []
     },
     "output_type": "display_data"
    }
   ],
   "source": [
    "#Remove multicolinearity\n",
    "cc=houses_data.iloc[:,:20].corr()\n",
    "sns.heatmap(cc)\n",
    "additional_drops=houses_data.corr().ExterQual.abs().sort_values(ascending=False)[2:].index[1:]\n",
    "additional_drops\n",
    "\n",
    "#houses_data.drop(additional_drops,axis=1,inplace=True)"
   ]
  },
  {
   "cell_type": "code",
   "execution_count": 2614,
   "metadata": {
    "colab": {
     "base_uri": "https://localhost:8080/",
     "height": 67
    },
    "colab_type": "code",
    "id": "_MOQQjX5e4kh",
    "outputId": "b219ac83-aed9-4d12-e659-c445308e398e"
   },
   "outputs": [
    {
     "name": "stdout",
     "output_type": "stream",
     "text": [
      "BsmtCond\n",
      "MI [0.048]\n",
      "Percentage [0.8927715]\n"
     ]
    }
   ],
   "source": [
    "print('BsmtCond')\n",
    "print('MI',mi_df2[mi_df2.cols=='BsmtCond'].MI.values)\n",
    "print('Percentage',value_percentage_n[value_percentage_n.column=='BsmtCond'].percentage.values)"
   ]
  },
  {
   "cell_type": "markdown",
   "metadata": {
    "colab_type": "text",
    "id": "gtuXeJoTe4kj"
   },
   "source": [
    "We decided to eliminate **BsmtCond** cause it has low MI value and high percentage rate (of the most frequent column).\n",
    "\n",
    "$n_{mf}$=number of instances of the most frequent category\n",
    "\n",
    "N=number of instances in data\n",
    "\n",
    "percentage=$\\frac {n_{mf}}{N}$"
   ]
  },
  {
   "cell_type": "markdown",
   "metadata": {
    "colab_type": "text",
    "id": "qlQCesRje4kl"
   },
   "source": [
    "\n",
    "\n",
    "Additional categorical columns that we decided to drop which improve the score of the model and minimize the RMSE more than the model with them."
   ]
  },
  {
   "cell_type": "code",
   "execution_count": 2615,
   "metadata": {
    "colab": {
     "base_uri": "https://localhost:8080/",
     "height": 218
    },
    "colab_type": "code",
    "id": "lyzlKOEEe4kv",
    "outputId": "5b16c212-8c41-49ba-c058-cb4de32c282a"
   },
   "outputs": [
    {
     "name": "stdout",
     "output_type": "stream",
     "text": [
      "\u001b[1m Foundation \u001b[0;0m Percentage [0.44809866] avg_MI [0.055] MIN MI 0.032\n",
      "-------------------------------------------------------\n",
      "\u001b[1m LotConfig \u001b[0;0m Percentage [0.7307297] avg_MI [0.006] MIN MI 0.0\n",
      "-------------------------------------------------------\n",
      "\u001b[1m Exterior1st \u001b[0;0m Percentage [0.35149024] avg_MI [0.011] MIN MI 0.009\n",
      "-------------------------------------------------------\n",
      "\u001b[1m Exterior2nd \u001b[0;0m Percentage [0.34772182] avg_MI [0.012] MIN MI 0.006\n",
      "-------------------------------------------------------\n",
      "\u001b[1m MSZoning \u001b[0;0m Percentage [0.777321] avg_MI [0.035] MIN MI 0.012\n",
      "-------------------------------------------------------\n",
      "\u001b[1m RoofStyle \u001b[0;0m Percentage [0.79136691] avg_MI [0.008] MIN MI 0.001\n",
      "-------------------------------------------------------\n"
     ]
    }
   ],
   "source": [
    "cat_drop=['Foundation','LotConfig','Exterior1st','Exterior2nd',\n",
    "     'MSZoning','RoofStyle']#, 'GarageFinish'\n",
    "#cat_drop=houses_data.select_dtypes(include=[object]).columns\n",
    "cat_dummies=pd.get_dummies(houses_data.loc[:,cat_drop])\n",
    "    \n",
    "x=train_data.shape[0]\n",
    "train_data_cd=cat_dummies[:x] \n",
    "\n",
    "y=train_data.SalePrice\n",
    "x=train_data_cd\n",
    "\n",
    "x_train=x\n",
    "y_train=y\n",
    "\n",
    "mi_df_cat_dm=pd.DataFrame()\n",
    "mi_df_cat_dm['cols']=pd.Series(x.columns)\n",
    "mi_df_cat_dm['MI']=pd.Series(mutual_info_regression(x,y))\n",
    "mi_df_cat_dm['MI']=mi_df_cat_dm['MI'].apply(lambda x:round(x,3))\n",
    "mi_dict={}\n",
    "mx_dict={}\n",
    "for c in cat_drop:\n",
    "    val=0\n",
    "    cnt=0\n",
    "    mx=[]\n",
    "\n",
    "    for col in mi_df_cat_dm.iterrows():\n",
    "        if str.startswith(col[1].cols,c):\n",
    "            val+=col[1].MI\n",
    "            cnt+=1\n",
    "            mx.append(val)\n",
    "    mx_dict[c]=round(np.min(mx),3)\n",
    "    mi_dict[c]=round((val/cnt),3)  \n",
    "    \n",
    "for cd in cat_drop:\n",
    "    print('\\033[1m',cd,\"\\033[0;0m\",'Percentage',value_percentage_c[value_percentage_c.column==cd].percentage.values\\\n",
    "         ,'avg_MI',[mi_dict[cd]],'MIN MI',mx_dict[cd])\n",
    "    print('-------------------------------------------------------')\n",
    "    \n"
   ]
  },
  {
   "cell_type": "code",
   "execution_count": 2616,
   "metadata": {
    "colab": {
     "base_uri": "https://localhost:8080/",
     "height": 118
    },
    "colab_type": "code",
    "id": "XkVOWINFe4kt",
    "outputId": "086324cb-632b-4cea-d512-e0775d2b57e1"
   },
   "outputs": [
    {
     "data": {
      "text/plain": [
       "[('Exterior1st', 0.011),\n",
       " ('Exterior2nd', 0.012),\n",
       " ('Foundation', 0.055),\n",
       " ('LotConfig', 0.006),\n",
       " ('MSZoning', 0.035),\n",
       " ('RoofStyle', 0.008)]"
      ]
     },
     "execution_count": 2616,
     "metadata": {
      "tags": []
     },
     "output_type": "execute_result"
    }
   ],
   "source": [
    "import operator\n",
    "sorted(mi_dict.items(), key=operator.itemgetter(0))"
   ]
  },
  {
   "cell_type": "markdown",
   "metadata": {
    "colab_type": "text",
    "id": "aCJVFmM3e4ky"
   },
   "source": [
    "When we create dummy variables from these categorical variables we store which is the smallest MI value and calculate the AVG value of MI for original variables using their dummy variables."
   ]
  },
  {
   "cell_type": "code",
   "execution_count": 0,
   "metadata": {
    "colab": {},
    "colab_type": "code",
    "id": "GGYm9HLge4k0"
   },
   "outputs": [],
   "source": [
    "houses_data.drop(cat_drop,axis=1,inplace=True)"
   ]
  },
  {
   "cell_type": "code",
   "execution_count": 2618,
   "metadata": {
    "colab": {
     "base_uri": "https://localhost:8080/",
     "height": 118
    },
    "colab_type": "code",
    "id": "xbvhsHj2e4k4",
    "outputId": "df0c072e-d252-4265-d5ed-041cd8a59384"
   },
   "outputs": [
    {
     "data": {
      "text/plain": [
       "MasVnrArea          1.000000\n",
       "TotalSuperficial    0.470492\n",
       "OverallQual         0.426528\n",
       "GrLivArea           0.400088\n",
       "GarageArea          0.371071\n",
       "Name: MasVnrArea, dtype: float64"
      ]
     },
     "execution_count": 2618,
     "metadata": {
      "tags": []
     },
     "output_type": "execute_result"
    }
   ],
   "source": [
    "houses_data.corr().MasVnrArea.abs().sort_values(ascending=False)[:5]"
   ]
  },
  {
   "cell_type": "code",
   "execution_count": 0,
   "metadata": {
    "colab": {},
    "colab_type": "code",
    "id": "6UqR5TUDe4k1"
   },
   "outputs": [],
   "source": [
    "additional_drop=['MasVnrArea','TotRmsAbvGrd','BsmtCond','WoodDeckSF']\n",
    "for ad in additional_drop:\n",
    "  try:\n",
    "    houses_data.drop(ad,axis=1,inplace=True)\n",
    "  except:\n",
    "    print(ad)\n",
    "    continue"
   ]
  },
  {
   "cell_type": "code",
   "execution_count": 2620,
   "metadata": {
    "colab": {
     "base_uri": "https://localhost:8080/",
     "height": 118
    },
    "colab_type": "code",
    "id": "d0Mm6T2-e4k6",
    "outputId": "eb3e2296-d5d0-42ac-dd0f-5e1196981edb"
   },
   "outputs": [
    {
     "data": {
      "text/plain": [
       "YearBuilt       1.000000\n",
       "BsmtQual        0.621369\n",
       "YearRemodAdd    0.612235\n",
       "ExterQual       0.605759\n",
       "OverallQual     0.597554\n",
       "Name: YearBuilt, dtype: float64"
      ]
     },
     "execution_count": 2620,
     "metadata": {
      "tags": []
     },
     "output_type": "execute_result"
    }
   ],
   "source": [
    "houses_data.corr().YearBuilt.abs().sort_values(ascending=False)[:5]"
   ]
  },
  {
   "cell_type": "markdown",
   "metadata": {
    "colab_type": "text",
    "id": "AHsH9SL2e4k7"
   },
   "source": [
    "**YearBuilt** brings important information according to the FeatureSelection library. We see that it is highly correlated to the **BsmtQual** attribute. Therefore, we decided to remove **BsmtQual** from the data."
   ]
  },
  {
   "cell_type": "code",
   "execution_count": 0,
   "metadata": {
    "colab": {},
    "colab_type": "code",
    "id": "pFewyk8he4k7"
   },
   "outputs": [],
   "source": [
    "houses_data.drop(['BsmtQual'],axis=1,inplace=True)"
   ]
  },
  {
   "cell_type": "code",
   "execution_count": 2622,
   "metadata": {
    "colab": {
     "base_uri": "https://localhost:8080/",
     "height": 118
    },
    "colab_type": "code",
    "id": "4KgHHsvme4k-",
    "outputId": "63bb5aa5-26eb-4e6c-ff7a-a7e9d33d3fe1"
   },
   "outputs": [
    {
     "data": {
      "text/plain": [
       "YearRemodAdd    1.000000\n",
       "KitchenQual     0.613987\n",
       "YearBuilt       0.612235\n",
       "ExterQual       0.607421\n",
       "OverallQual     0.571532\n",
       "Name: YearRemodAdd, dtype: float64"
      ]
     },
     "execution_count": 2622,
     "metadata": {
      "tags": []
     },
     "output_type": "execute_result"
    }
   ],
   "source": [
    "houses_data.corr().YearRemodAdd.abs().sort_values(ascending=False)[:5]"
   ]
  },
  {
   "cell_type": "markdown",
   "metadata": {
    "colab_type": "text",
    "id": "TkZl1tVme4lA"
   },
   "source": [
    "**YearRemodAdd** brings important information according to the FeatureSelection library. We see that it is highly correlated to the **KitchenQual** attribute. Therefore, we decided to remove **KitchenQual** from the data."
   ]
  },
  {
   "cell_type": "code",
   "execution_count": 0,
   "metadata": {
    "colab": {},
    "colab_type": "code",
    "id": "1rASyNhOe4lA"
   },
   "outputs": [],
   "source": [
    "houses_data.drop(['KitchenQual'],axis=1,inplace=True)"
   ]
  },
  {
   "cell_type": "code",
   "execution_count": 2624,
   "metadata": {
    "colab": {
     "base_uri": "https://localhost:8080/",
     "height": 626
    },
    "colab_type": "code",
    "id": "mjefHBWqe4lI",
    "outputId": "17d48846-e0a9-44a2-c4ca-fda5e7df7d73"
   },
   "outputs": [
    {
     "data": {
      "text/plain": [
       "<matplotlib.axes._subplots.AxesSubplot at 0x7f8a04a295c0>"
      ]
     },
     "execution_count": 2624,
     "metadata": {
      "tags": []
     },
     "output_type": "execute_result"
    },
    {
     "data": {
      "image/png": "[encoded data removed]",
      "text/plain": [
       "<Figure size 864x648 with 2 Axes>"
      ]
     },
     "metadata": {
      "tags": []
     },
     "output_type": "display_data"
    }
   ],
   "source": [
    "f, ax = plt.subplots(figsize = (12, 9))\n",
    "sns.heatmap(houses_data.corr())"
   ]
  },
  {
   "cell_type": "markdown",
   "metadata": {
    "colab_type": "text",
    "id": "IApvO9aHjNpi"
   },
   "source": [
    "GarageArea and GarageCars are also highly correlated as we can see from the correlation matrix so we decided to drop GarageArea.\n",
    "\n",
    "And LotFrontage is correlated to TotalSuperficial so we shall remove it also."
   ]
  },
  {
   "cell_type": "code",
   "execution_count": 2625,
   "metadata": {
    "colab": {
     "base_uri": "https://localhost:8080/",
     "height": 84
    },
    "colab_type": "code",
    "id": "V6RSMKXZj2fb",
    "outputId": "21386e8e-0fc5-490c-dc80-18f41b30cb66"
   },
   "outputs": [
    {
     "data": {
      "text/plain": [
       "LotFrontage         1.000000\n",
       "TotalSuperficial    0.399965\n",
       "LotArea             0.364382\n",
       "Name: LotFrontage, dtype: float64"
      ]
     },
     "execution_count": 2625,
     "metadata": {
      "tags": []
     },
     "output_type": "execute_result"
    }
   ],
   "source": [
    "houses_data.corr().LotFrontage.abs().sort_values(ascending=False)[:3]"
   ]
  },
  {
   "cell_type": "code",
   "execution_count": 0,
   "metadata": {
    "colab": {},
    "colab_type": "code",
    "id": "EX4hDQfoi-S1"
   },
   "outputs": [],
   "source": [
    "houses_data.drop(['GarageArea','LotFrontage'],axis=1,inplace=True)"
   ]
  },
  {
   "cell_type": "code",
   "execution_count": 2627,
   "metadata": {
    "colab": {
     "base_uri": "https://localhost:8080/",
     "height": 84
    },
    "colab_type": "code",
    "id": "pSSotz3Be4lK",
    "outputId": "0a9f8f96-ccee-449b-cbe7-2f28e222cefd"
   },
   "outputs": [
    {
     "data": {
      "text/plain": [
       "Index(['BldgType', 'BsmtFinType1', 'BsmtFinType2', 'Condition1', 'GarageType',\n",
       "       'HouseStyle', 'LotShape', 'MSSubClass', 'MasVnrType', 'Neighborhood',\n",
       "       'PavedDrive', 'SaleCondition', 'SaleType', 'Street'],\n",
       "      dtype='object')"
      ]
     },
     "execution_count": 2627,
     "metadata": {
      "tags": []
     },
     "output_type": "execute_result"
    }
   ],
   "source": [
    "cats=houses_data.select_dtypes(include=['object']).columns\n",
    "cats"
   ]
  },
  {
   "cell_type": "code",
   "execution_count": 0,
   "metadata": {
    "colab": {},
    "colab_type": "code",
    "id": "WLIGzTi21X4R"
   },
   "outputs": [],
   "source": [
    "#Creating dummy variables for categorical variables\n",
    "dummies=pd.get_dummies(houses_data.select_dtypes(include=['object']))#, drop_first=True)\n",
    "houses_data.drop(houses_data.select_dtypes(['object']).columns,axis=1,inplace=True)\n",
    "houses_data = pd.concat([houses_data, dummies], axis=1)"
   ]
  },
  {
   "cell_type": "code",
   "execution_count": 0,
   "metadata": {
    "colab": {},
    "colab_type": "code",
    "id": "pluoHZW5QOOv"
   },
   "outputs": [],
   "source": [
    "#Take from the merged dataframe(train+test) separately the first dataframe - train_data and second one test_data\n",
    "x=train_data.shape[0]\n",
    "\n",
    "train_data=houses_data[:x]\n",
    "test_data=houses_data[x:]"
   ]
  },
  {
   "cell_type": "code",
   "execution_count": 0,
   "metadata": {
    "colab": {},
    "colab_type": "code",
    "id": "SRDG9HTW1X4Y"
   },
   "outputs": [],
   "source": [
    "y=train_data.SalePrice\n",
    "x=train_data.drop(['SalePrice'],axis=1)\n",
    "mi_df=pd.DataFrame()\n",
    "mi_df['cols']=pd.Series(x.columns)\n",
    "mi_df['MI']=pd.Series(mutual_info_regression(x,y))\n",
    "mi_df['MI']=mi_df['MI'].apply(lambda x:round(x,3))  "
   ]
  },
  {
   "cell_type": "code",
   "execution_count": 2631,
   "metadata": {
    "colab": {
     "base_uri": "https://localhost:8080/",
     "height": 343
    },
    "colab_type": "code",
    "id": "GG0FKEoufn7V",
    "outputId": "b99d842f-d3dd-4605-8b39-298907cd7e54"
   },
   "outputs": [
    {
     "data": {
      "text/html": [
       "<div>\n",
       "<style scoped>\n",
       "    .dataframe tbody tr th:only-of-type {\n",
       "        vertical-align: middle;\n",
       "    }\n",
       "\n",
       "    .dataframe tbody tr th {\n",
       "        vertical-align: top;\n",
       "    }\n",
       "\n",
       "    .dataframe thead th {\n",
       "        text-align: right;\n",
       "    }\n",
       "</style>\n",
       "<table border=\"1\" class=\"dataframe\">\n",
       "  <thead>\n",
       "    <tr style=\"text-align: right;\">\n",
       "      <th></th>\n",
       "      <th>cols</th>\n",
       "      <th>MI</th>\n",
       "    </tr>\n",
       "  </thead>\n",
       "  <tbody>\n",
       "    <tr>\n",
       "      <th>30</th>\n",
       "      <td>TotalSuperficial</td>\n",
       "      <td>0.686</td>\n",
       "    </tr>\n",
       "    <tr>\n",
       "      <th>24</th>\n",
       "      <td>OverallQual</td>\n",
       "      <td>0.566</td>\n",
       "    </tr>\n",
       "    <tr>\n",
       "      <th>14</th>\n",
       "      <td>GrLivArea</td>\n",
       "      <td>0.458</td>\n",
       "    </tr>\n",
       "    <tr>\n",
       "      <th>11</th>\n",
       "      <td>GarageCars</td>\n",
       "      <td>0.369</td>\n",
       "    </tr>\n",
       "    <tr>\n",
       "      <th>27</th>\n",
       "      <td>YearBuilt</td>\n",
       "      <td>0.369</td>\n",
       "    </tr>\n",
       "    <tr>\n",
       "      <th>8</th>\n",
       "      <td>ExterQual</td>\n",
       "      <td>0.324</td>\n",
       "    </tr>\n",
       "    <tr>\n",
       "      <th>10</th>\n",
       "      <td>FullBath</td>\n",
       "      <td>0.258</td>\n",
       "    </tr>\n",
       "    <tr>\n",
       "      <th>13</th>\n",
       "      <td>GarageYrBlt</td>\n",
       "      <td>0.257</td>\n",
       "    </tr>\n",
       "    <tr>\n",
       "      <th>28</th>\n",
       "      <td>YearRemodAdd</td>\n",
       "      <td>0.233</td>\n",
       "    </tr>\n",
       "    <tr>\n",
       "      <th>18</th>\n",
       "      <td>LotArea</td>\n",
       "      <td>0.170</td>\n",
       "    </tr>\n",
       "  </tbody>\n",
       "</table>\n",
       "</div>"
      ],
      "text/plain": [
       "                cols     MI\n",
       "30  TotalSuperficial  0.686\n",
       "24       OverallQual  0.566\n",
       "14         GrLivArea  0.458\n",
       "11        GarageCars  0.369\n",
       "27         YearBuilt  0.369\n",
       "8          ExterQual  0.324\n",
       "10          FullBath  0.258\n",
       "13       GarageYrBlt  0.257\n",
       "28      YearRemodAdd  0.233\n",
       "18           LotArea  0.170"
      ]
     },
     "execution_count": 2631,
     "metadata": {
      "tags": []
     },
     "output_type": "execute_result"
    }
   ],
   "source": [
    "mi_df.sort_values('MI',ascending=False)[:10]"
   ]
  },
  {
   "cell_type": "markdown",
   "metadata": {
    "colab_type": "text",
    "id": "AMcz2ubVq_8G"
   },
   "source": [
    "### Detecting and removing outliers"
   ]
  },
  {
   "cell_type": "code",
   "execution_count": 2632,
   "metadata": {
    "colab": {
     "base_uri": "https://localhost:8080/",
     "height": 283
    },
    "colab_type": "code",
    "id": "6ZqjGgBHf8s7",
    "outputId": "0258923d-dc8d-4981-e3f3-72f0716300d5"
   },
   "outputs": [
    {
     "data": {
      "image/png": "[encoded data removed]",
      "text/plain": [
       "<Figure size 432x288 with 1 Axes>"
      ]
     },
     "metadata": {
      "tags": []
     },
     "output_type": "display_data"
    }
   ],
   "source": [
    "sns.regplot(x = train_data['GrLivArea'], y = train_data['SalePrice'])\n",
    "plt.show()"
   ]
  },
  {
   "cell_type": "code",
   "execution_count": 0,
   "metadata": {
    "colab": {},
    "colab_type": "code",
    "id": "_sQLL1pcYfF2"
   },
   "outputs": [],
   "source": [
    "train_data = train_data.drop(train_data[(train_data['GrLivArea']>4000) & (train_data['SalePrice']<13)].index)\n",
    "\n",
    "#We noticed these two datapoints and we removed them with the above mentioned condition"
   ]
  },
  {
   "cell_type": "code",
   "execution_count": 2634,
   "metadata": {
    "colab": {
     "base_uri": "https://localhost:8080/",
     "height": 283
    },
    "colab_type": "code",
    "id": "G84hzdNqYnBg",
    "outputId": "8fbf1a7f-c58e-4951-cbf0-32f0ddf514c8"
   },
   "outputs": [
    {
     "data": {
      "image/png": "[encoded data removed]",
      "text/plain": [
       "<Figure size 432x288 with 1 Axes>"
      ]
     },
     "metadata": {
      "tags": []
     },
     "output_type": "display_data"
    }
   ],
   "source": [
    "sns.regplot(x = train_data['GrLivArea'], y = train_data['SalePrice'])\n",
    "plt.show()"
   ]
  },
  {
   "cell_type": "code",
   "execution_count": 0,
   "metadata": {
    "colab": {},
    "colab_type": "code",
    "id": "N31OCms01X4m"
   },
   "outputs": [],
   "source": [
    "### Preparing data for making a prediction\n",
    "\n",
    "rmse_df=pd.DataFrame(columns=['Alg','RMSE'])\n",
    " \n",
    "\n",
    "#train_data=train_data.sample(frac=1)#just to shuffle a bit\n",
    "\n",
    "y=train_data.SalePrice\n",
    "x=train_data.drop(['SalePrice'],axis=1)\n",
    "\n",
    "x_train=x\n",
    "y_train=y\n",
    "\n",
    "test_data.drop('SalePrice',axis=1,inplace=True)"
   ]
  },
  {
   "cell_type": "code",
   "execution_count": 0,
   "metadata": {
    "colab": {},
    "colab_type": "code",
    "id": "nBrdqqOL1X4o"
   },
   "outputs": [],
   "source": [
    "def root_mean_squared_error(mse):\n",
    "    return np.sqrt(mse)"
   ]
  },
  {
   "cell_type": "markdown",
   "metadata": {
    "colab_type": "text",
    "id": "pLLsKO3C1X4r"
   },
   "source": [
    "# Modelling"
   ]
  },
  {
   "cell_type": "markdown",
   "metadata": {
    "colab_type": "text",
    "id": "b68o1BcN1X4r"
   },
   "source": [
    "# Evaluation"
   ]
  },
  {
   "cell_type": "markdown",
   "metadata": {
    "colab_type": "text",
    "id": "pNkDw_7fXHvV"
   },
   "source": [
    "After many ** trial and error ** tryouts we decided that out final model would be the following: \n",
    "\n",
    "          \n",
    "      GradientBoosting*0.1+Lasso*0.1+Ridge*0.15+xgboost*0.25+StackingCVRegressor*0.4\n",
    "\n",
    "whereby StackingCVRegressor is composed of:\n",
    "\n",
    "\n",
    "    1.    regressors=(ridge, lasso, ENet, GBoost)\n",
    "    2.    meta_regressor=ENet\n",
    "\n",
    "\n",
    "                           \n",
    "\n",
    "\n",
    "\n",
    "\n",
    "        "
   ]
  },
  {
   "cell_type": "code",
   "execution_count": 10,
   "metadata": {},
   "outputs": [
    {
     "data": {
      "image/png": "[encoded data removed]",
      "text/plain": [
       "<IPython.core.display.Image object>"
      ]
     },
     "execution_count": 10,
     "metadata": {
      "image/png": {
       "height": 700,
       "width": 500
      }
     },
     "output_type": "execute_result"
    }
   ],
   "source": [
    "Image(filename='cross_validation.png',height=700,width=500)"
   ]
  },
  {
   "cell_type": "code",
   "execution_count": 0,
   "metadata": {
    "colab": {},
    "colab_type": "code",
    "id": "dU90FCDn1X4u"
   },
   "outputs": [],
   "source": [
    "#Validation function\n",
    "\n",
    "def cross_val(model):\n",
    "    kf = KFold(5, shuffle=True).get_n_splits(x_train.values)\n",
    "    rmse= root_mean_squared_error(-cross_val_score(model, x_train.values, y_train, scoring=\"neg_mean_squared_error\", cv = kf))\n",
    "    return(rmse)"
   ]
  },
  {
   "cell_type": "code",
   "execution_count": 0,
   "metadata": {
    "colab": {},
    "colab_type": "code",
    "id": "0d466H3m1X42"
   },
   "outputs": [],
   "source": [
    "#Base models\n",
    "#LASSO Regression :\n",
    "#In order to make model more Robust to outliers method RobustScaler() can be used as part of the prerpocessing\n",
    " \n",
    "kfolds = KFold(n_splits=10, shuffle=True)\n",
    "ridge = make_pipeline(RobustScaler(), RidgeCV(cv=kfolds))\n",
    "\n",
    "#ridge = make_pipeline(RobustScaler(), RidgeCV(alphas=alphas_alt, cv=kfolds))\n",
    "lasso = make_pipeline(RobustScaler(), Lasso(alpha=0.0009))\n",
    "#Elastic Net Regression :\n",
    "\n",
    "ENet = make_pipeline(RobustScaler(), ElasticNet(alpha=0.0005,l1_ratio=0.75,normalize=False,positive=True,precompute=True,selection='random',warm_start=False))\n",
    "#Kernel Ridge Regression :\n",
    "KRR = KernelRidge()\n",
    "#Gradient Boosting Regression :\n",
    "#With huber loss that makes it robust to outliers\n",
    "\n",
    "GBoost = GradientBoostingRegressor(n_estimators=3000, learning_rate=0.05,max_depth=4, max_features='log2',min_samples_leaf=10, min_samples_split=2,loss='huber',alpha=0.8)\n",
    "#XGBoost\n",
    "model_xgb = xgb.XGBRegressor(n_estimators=1100)\n",
    "#LightGBM\n",
    "model_lgb = lgb.LGBMRegressor()\n"
   ]
  },
  {
   "cell_type": "code",
   "execution_count": 2639,
   "metadata": {
    "colab": {
     "base_uri": "https://localhost:8080/",
     "height": 538
    },
    "colab_type": "code",
    "id": "PyPkGgsR1X43",
    "outputId": "c732b3b6-378b-4c67-ffd0-e00f4f4501ab"
   },
   "outputs": [
    {
     "name": "stdout",
     "output_type": "stream",
     "text": [
      "\n",
      "ENetscore: 0.1173 (0.0064)\n",
      "\n",
      "\n",
      "GBoostscore: 0.1192 (0.0068)\n",
      "\n",
      "\n",
      "KRRscore: 0.1195 (0.0064)\n",
      "\n",
      "\n",
      "lassoscore: 0.1181 (0.0066)\n",
      "\n",
      "\n",
      "lgbscore: 0.1284 (0.0056)\n",
      "\n",
      "[06:46:23] WARNING: /workspace/src/objective/regression_obj.cu:152: reg:linear is now deprecated in favor of reg:squarederror.\n",
      "[06:46:28] WARNING: /workspace/src/objective/regression_obj.cu:152: reg:linear is now deprecated in favor of reg:squarederror.\n",
      "[06:46:33] WARNING: /workspace/src/objective/regression_obj.cu:152: reg:linear is now deprecated in favor of reg:squarederror.\n",
      "[06:46:38] WARNING: /workspace/src/objective/regression_obj.cu:152: reg:linear is now deprecated in favor of reg:squarederror.\n",
      "[06:46:43] WARNING: /workspace/src/objective/regression_obj.cu:152: reg:linear is now deprecated in favor of reg:squarederror.\n",
      "[06:46:49] WARNING: /workspace/src/objective/regression_obj.cu:152: reg:linear is now deprecated in favor of reg:squarederror.\n",
      "[06:46:54] WARNING: /workspace/src/objective/regression_obj.cu:152: reg:linear is now deprecated in favor of reg:squarederror.\n",
      "[06:46:59] WARNING: /workspace/src/objective/regression_obj.cu:152: reg:linear is now deprecated in favor of reg:squarederror.\n",
      "[06:47:04] WARNING: /workspace/src/objective/regression_obj.cu:152: reg:linear is now deprecated in favor of reg:squarederror.\n",
      "[06:47:09] WARNING: /workspace/src/objective/regression_obj.cu:152: reg:linear is now deprecated in favor of reg:squarederror.\n",
      "\n",
      "xgbscore: 0.1242 (0.0045)\n",
      "\n",
      "\n",
      "ridgescore: 0.1172 (0.0062)\n",
      "\n"
     ]
    }
   ],
   "source": [
    "algs=[ENet,GBoost,KRR,lasso,model_lgb,model_xgb,ridge]\n",
    "algs_name=['ENet','GBoost','KRR','lasso','lgb','xgb','ridge']\n",
    "res_df=pd.DataFrame(columns=['algorithm name','mean','standard deviation'])\n",
    "for idx,alg in enumerate(algs):\n",
    "    alg_name=algs_name[idx]\n",
    "    score = cross_val(alg)\n",
    "    sc_mean=score.mean()\n",
    "    sc_std=score.std()\n",
    "    res_df=res_df.append({'algorithm name':alg_name,'mean':sc_mean,'standard deviation':sc_std},ignore_index=True)\n",
    "    score = cross_val(alg)\n",
    "    print(\"\\n\"+alg_name+ \"score: {:.4f} ({:.4f})\\n\".format(sc_mean, sc_std))"
   ]
  },
  {
   "cell_type": "code",
   "execution_count": 2640,
   "metadata": {
    "colab": {
     "base_uri": "https://localhost:8080/",
     "height": 254
    },
    "colab_type": "code",
    "id": "9-MdAeVh8HSN",
    "outputId": "99312afb-e50b-4283-f1f0-be8aa041e379"
   },
   "outputs": [
    {
     "data": {
      "text/html": [
       "<div>\n",
       "<style scoped>\n",
       "    .dataframe tbody tr th:only-of-type {\n",
       "        vertical-align: middle;\n",
       "    }\n",
       "\n",
       "    .dataframe tbody tr th {\n",
       "        vertical-align: top;\n",
       "    }\n",
       "\n",
       "    .dataframe thead th {\n",
       "        text-align: right;\n",
       "    }\n",
       "</style>\n",
       "<table border=\"1\" class=\"dataframe\">\n",
       "  <thead>\n",
       "    <tr style=\"text-align: right;\">\n",
       "      <th></th>\n",
       "      <th>algorithm name</th>\n",
       "      <th>mean</th>\n",
       "      <th>standard deviation</th>\n",
       "    </tr>\n",
       "  </thead>\n",
       "  <tbody>\n",
       "    <tr>\n",
       "      <th>6</th>\n",
       "      <td>ridge</td>\n",
       "      <td>0.117246</td>\n",
       "      <td>0.006192</td>\n",
       "    </tr>\n",
       "    <tr>\n",
       "      <th>0</th>\n",
       "      <td>ENet</td>\n",
       "      <td>0.117291</td>\n",
       "      <td>0.006418</td>\n",
       "    </tr>\n",
       "    <tr>\n",
       "      <th>3</th>\n",
       "      <td>lasso</td>\n",
       "      <td>0.118083</td>\n",
       "      <td>0.006550</td>\n",
       "    </tr>\n",
       "    <tr>\n",
       "      <th>1</th>\n",
       "      <td>GBoost</td>\n",
       "      <td>0.119196</td>\n",
       "      <td>0.006757</td>\n",
       "    </tr>\n",
       "    <tr>\n",
       "      <th>2</th>\n",
       "      <td>KRR</td>\n",
       "      <td>0.119543</td>\n",
       "      <td>0.006426</td>\n",
       "    </tr>\n",
       "    <tr>\n",
       "      <th>5</th>\n",
       "      <td>xgb</td>\n",
       "      <td>0.124191</td>\n",
       "      <td>0.004519</td>\n",
       "    </tr>\n",
       "    <tr>\n",
       "      <th>4</th>\n",
       "      <td>lgb</td>\n",
       "      <td>0.128375</td>\n",
       "      <td>0.005645</td>\n",
       "    </tr>\n",
       "  </tbody>\n",
       "</table>\n",
       "</div>"
      ],
      "text/plain": [
       "  algorithm name      mean  standard deviation\n",
       "6          ridge  0.117246            0.006192\n",
       "0           ENet  0.117291            0.006418\n",
       "3          lasso  0.118083            0.006550\n",
       "1         GBoost  0.119196            0.006757\n",
       "2            KRR  0.119543            0.006426\n",
       "5            xgb  0.124191            0.004519\n",
       "4            lgb  0.128375            0.005645"
      ]
     },
     "execution_count": 2640,
     "metadata": {
      "tags": []
     },
     "output_type": "execute_result"
    }
   ],
   "source": [
    "res_df.sort_values(by='mean')"
   ]
  },
  {
   "cell_type": "code",
   "execution_count": 2641,
   "metadata": {
    "colab": {
     "base_uri": "https://localhost:8080/",
     "height": 202
    },
    "colab_type": "code",
    "id": "3yxTppjo1X45",
    "outputId": "d9be514e-03be-4fd1-e064-cecce97d224d"
   },
   "outputs": [
    {
     "name": "stdout",
     "output_type": "stream",
     "text": [
      "[06:47:23] WARNING: /workspace/src/objective/regression_obj.cu:152: reg:linear is now deprecated in favor of reg:squarederror.\n"
     ]
    },
    {
     "data": {
      "text/plain": [
       "Pipeline(memory=None,\n",
       "         steps=[('robustscaler',\n",
       "                 RobustScaler(copy=True, quantile_range=(25.0, 75.0),\n",
       "                              with_centering=True, with_scaling=True)),\n",
       "                ('ridgecv',\n",
       "                 RidgeCV(alphas=array([ 0.1,  1. , 10. ]),\n",
       "                         cv=KFold(n_splits=10, random_state=None, shuffle=True),\n",
       "                         fit_intercept=True, gcv_mode=None, normalize=False,\n",
       "                         scoring=None, store_cv_values=False))],\n",
       "         verbose=False)"
      ]
     },
     "execution_count": 2641,
     "metadata": {
      "tags": []
     },
     "output_type": "execute_result"
    }
   ],
   "source": [
    "ENet.fit(x_train,y_train)\n",
    "GBoost.fit(x_train,y_train)\n",
    "KRR.fit(x_train,y_train)\n",
    "lasso.fit(x_train,y_train)\n",
    "model_xgb.fit(x_train,y_train)\n",
    "model_lgb.fit(x_train,y_train)\n",
    "ridge.fit(x_train,y_train)"
   ]
  },
  {
   "cell_type": "code",
   "execution_count": 0,
   "metadata": {
    "colab": {},
    "colab_type": "code",
    "id": "9EOs62Vs1X5I"
   },
   "outputs": [],
   "source": [
    "y1 = ENet.predict(test_data)\n",
    "y2 = GBoost.predict(test_data)\n",
    "y3 = KRR.predict(test_data)\n",
    "y4 = lasso.predict(test_data)\n",
    "y5 = model_lgb.predict(test_data)\n",
    "y6 = ridge.predict(test_data)\n",
    "y7 = model_xgb.predict(test_data)"
   ]
  },
  {
   "cell_type": "code",
   "execution_count": 0,
   "metadata": {
    "colab": {},
    "colab_type": "code",
    "id": "ilVddwHW1X5N"
   },
   "outputs": [],
   "source": [
    "from mlxtend.regressor import StackingCVRegressor\n",
    "stacking_reg = StackingCVRegressor(regressors=(ridge, lasso, ENet, GBoost),\n",
    "                                meta_regressor=ENet,\n",
    "                                use_features_in_secondary=True)\n",
    "stacking_reg.fit(np.array(x_train),np.array(y_train))\n",
    "sr=stacking_reg.predict(np.array(test_data))"
   ]
  },
  {
   "cell_type": "code",
   "execution_count": 2644,
   "metadata": {
    "colab": {
     "base_uri": "https://localhost:8080/",
     "height": 50
    },
    "colab_type": "code",
    "id": "Wb5p10Xi1X59",
    "outputId": "2838cde6-2ccb-4723-cf26-44e0c7a6cd5c"
   },
   "outputs": [
    {
     "name": "stdout",
     "output_type": "stream",
     "text": [
      "[118137.30027457 155029.32523903 181514.4685513  193817.04839733\n",
      " 194597.54201867]\n"
     ]
    }
   ],
   "source": [
    "################################################################################\n",
    "#FINAL PREDICTIONS\n",
    "y_pred = y2*0.1+y4*0.1+y6*0.15+y7*0.25+sr*0.4 \n",
    "\n",
    "\n",
    "y_pred = np.exp(y_pred)\n",
    "print(y_pred[:5])#first five"
   ]
  },
  {
   "cell_type": "code",
   "execution_count": 0,
   "metadata": {
    "colab": {},
    "colab_type": "code",
    "id": "Q_4aVq1S1X5L"
   },
   "outputs": [],
   "source": [
    "#how it looks on the training\n",
    "x1 = ENet.predict(x_train)\n",
    "x2 = GBoost.predict(x_train)\n",
    "x3 = KRR.predict(x_train)\n",
    "x4 = lasso.predict(x_train)\n",
    "x5 = model_lgb.predict(x_train)\n",
    "x6 = ridge.predict(x_train)\n",
    "x7 = model_xgb.predict(x_train)\n",
    "sr_x=stacking_reg.predict(np.array(x_train))"
   ]
  },
  {
   "cell_type": "code",
   "execution_count": 0,
   "metadata": {
    "colab": {},
    "colab_type": "code",
    "id": "EOIjaYRZEHci"
   },
   "outputs": [],
   "source": [
    "y_train=np.exp(y_train)"
   ]
  },
  {
   "cell_type": "code",
   "execution_count": 2647,
   "metadata": {
    "colab": {
     "base_uri": "https://localhost:8080/",
     "height": 300
    },
    "colab_type": "code",
    "id": "0EqCcII6EHcr",
    "outputId": "f95714d6-17dd-49ed-a3b1-6005b16d4966"
   },
   "outputs": [
    {
     "data": {
      "text/plain": [
       "[<matplotlib.lines.Line2D at 0x7f8a06660c88>]"
      ]
     },
     "execution_count": 2647,
     "metadata": {
      "tags": []
     },
     "output_type": "execute_result"
    },
    {
     "data": {
      "image/png": "[encoded data removed]",
      "text/plain": [
       "<Figure size 432x288 with 1 Axes>"
      ]
     },
     "metadata": {
      "tags": []
     },
     "output_type": "display_data"
    }
   ],
   "source": [
    "x_pred=np.exp(x2*0.1+x4*0.1+x6*0.15+x7*0.25+sr_x*0.4)#using the weighted predictions+stacking\n",
    "\n",
    "fig, ax = plt.subplots()\n",
    "plt.scatter(x_pred,y_train)\n",
    "plt.xlabel('Predicted')\n",
    "plt.ylabel('Actual')\n",
    "plt.plot(y_train,y_train,color='red')"
   ]
  },
  {
   "cell_type": "code",
   "execution_count": 0,
   "metadata": {
    "colab": {},
    "colab_type": "code",
    "id": "8dJxcnsi1X6Q"
   },
   "outputs": [],
   "source": [
    "submission=pd.DataFrame()\n",
    "submission['Id']=Id\n",
    "submission['SalePrice']=y_pred"
   ]
  },
  {
   "cell_type": "code",
   "execution_count": 0,
   "metadata": {
    "colab": {},
    "colab_type": "code",
    "id": "qBeK4Eb91X6T"
   },
   "outputs": [],
   "source": [
    "submission.to_csv('submission.csv',index=False)#storing to the submission file"
   ]
  },
  {
   "cell_type": "code",
   "execution_count": 2650,
   "metadata": {
    "colab": {
     "base_uri": "https://localhost:8080/",
     "height": 195
    },
    "colab_type": "code",
    "id": "M2VsPJBi1X6a",
    "outputId": "656b1ea5-df64-497b-fa19-f905bbb13b0f",
    "scrolled": true
   },
   "outputs": [
    {
     "data": {
      "text/html": [
       "<div>\n",
       "<style scoped>\n",
       "    .dataframe tbody tr th:only-of-type {\n",
       "        vertical-align: middle;\n",
       "    }\n",
       "\n",
       "    .dataframe tbody tr th {\n",
       "        vertical-align: top;\n",
       "    }\n",
       "\n",
       "    .dataframe thead th {\n",
       "        text-align: right;\n",
       "    }\n",
       "</style>\n",
       "<table border=\"1\" class=\"dataframe\">\n",
       "  <thead>\n",
       "    <tr style=\"text-align: right;\">\n",
       "      <th></th>\n",
       "      <th>Id</th>\n",
       "      <th>SalePrice</th>\n",
       "    </tr>\n",
       "  </thead>\n",
       "  <tbody>\n",
       "    <tr>\n",
       "      <th>0</th>\n",
       "      <td>1461</td>\n",
       "      <td>118137.300275</td>\n",
       "    </tr>\n",
       "    <tr>\n",
       "      <th>1</th>\n",
       "      <td>1462</td>\n",
       "      <td>155029.325239</td>\n",
       "    </tr>\n",
       "    <tr>\n",
       "      <th>2</th>\n",
       "      <td>1463</td>\n",
       "      <td>181514.468551</td>\n",
       "    </tr>\n",
       "    <tr>\n",
       "      <th>3</th>\n",
       "      <td>1464</td>\n",
       "      <td>193817.048397</td>\n",
       "    </tr>\n",
       "    <tr>\n",
       "      <th>4</th>\n",
       "      <td>1465</td>\n",
       "      <td>194597.542019</td>\n",
       "    </tr>\n",
       "  </tbody>\n",
       "</table>\n",
       "</div>"
      ],
      "text/plain": [
       "     Id      SalePrice\n",
       "0  1461  118137.300275\n",
       "1  1462  155029.325239\n",
       "2  1463  181514.468551\n",
       "3  1464  193817.048397\n",
       "4  1465  194597.542019"
      ]
     },
     "execution_count": 2650,
     "metadata": {
      "tags": []
     },
     "output_type": "execute_result"
    }
   ],
   "source": [
    "submission.head()"
   ]
  },
  {
   "cell_type": "code",
   "execution_count": 0,
   "metadata": {
    "colab": {},
    "colab_type": "code",
    "id": "Nmp-dHgR1X67"
   },
   "outputs": [],
   "source": [
    "#test of the models again to show how the models were chosen\n",
    "y=train_data.SalePrice\n",
    "x=train_data.drop(['SalePrice'],axis=1)\n",
    "x_train2, x_test2, y_train2, y_test2=train_test_split(x,y,test_size=.2)"
   ]
  },
  {
   "cell_type": "code",
   "execution_count": 2652,
   "metadata": {
    "colab": {
     "base_uri": "https://localhost:8080/",
     "height": 202
    },
    "colab_type": "code",
    "id": "7K0D3-Tf1X7F",
    "outputId": "c44da5b6-edf9-44a9-d7fa-090373227123"
   },
   "outputs": [
    {
     "name": "stdout",
     "output_type": "stream",
     "text": [
      "[06:48:14] WARNING: /workspace/src/objective/regression_obj.cu:152: reg:linear is now deprecated in favor of reg:squarederror.\n"
     ]
    },
    {
     "data": {
      "text/plain": [
       "Pipeline(memory=None,\n",
       "         steps=[('robustscaler',\n",
       "                 RobustScaler(copy=True, quantile_range=(25.0, 75.0),\n",
       "                              with_centering=True, with_scaling=True)),\n",
       "                ('ridgecv',\n",
       "                 RidgeCV(alphas=array([ 0.1,  1. , 10. ]),\n",
       "                         cv=KFold(n_splits=10, random_state=None, shuffle=True),\n",
       "                         fit_intercept=True, gcv_mode=None, normalize=False,\n",
       "                         scoring=None, store_cv_values=False))],\n",
       "         verbose=False)"
      ]
     },
     "execution_count": 2652,
     "metadata": {
      "tags": []
     },
     "output_type": "execute_result"
    }
   ],
   "source": [
    "ENet.fit(x_train2,y_train2)\n",
    "GBoost.fit(x_train2,y_train2)\n",
    "KRR.fit(x_train2,y_train2)\n",
    "lasso.fit(x_train2,y_train2)\n",
    "model_xgb.fit(x_train2,y_train2)\n",
    "model_lgb.fit(x_train2,y_train2)\n",
    "ridge.fit(x_train2,y_train2)"
   ]
  },
  {
   "cell_type": "code",
   "execution_count": 0,
   "metadata": {
    "colab": {},
    "colab_type": "code",
    "id": "sYdOy2lx1X7K"
   },
   "outputs": [],
   "source": [
    "train_error1 = ENet.predict(x_train2)\n",
    "train_error2 = GBoost.predict(x_train2)\n",
    "train_error3 = KRR.predict(x_train2)\n",
    "train_error4 = lasso.predict(x_train2)\n",
    "train_error5 = model_lgb.predict(x_train2)\n",
    "train_error6 = ridge.predict(x_train2)\n",
    "train_error7 = model_xgb.predict(x_train2)"
   ]
  },
  {
   "cell_type": "code",
   "execution_count": 0,
   "metadata": {
    "colab": {},
    "colab_type": "code",
    "id": "3lid3D3SEHdz"
   },
   "outputs": [],
   "source": [
    "#Cross-Validation function\n",
    "def cross_val_rmse(model,x,y):\n",
    "    kf = KFold(5, shuffle=True).get_n_splits(x.values)\n",
    "    rmse= root_mean_squared_error(-cross_val_score(model, x.values, y, scoring=\"neg_mean_squared_error\", cv = kf))\n",
    "    return(round(np.mean(rmse),3))"
   ]
  },
  {
   "cell_type": "code",
   "execution_count": 2655,
   "metadata": {
    "colab": {
     "base_uri": "https://localhost:8080/",
     "height": 185
    },
    "colab_type": "code",
    "id": "8tA7lN2EGVPE",
    "outputId": "e5859fe1-71f1-4f21-9d1a-b13cf561a668"
   },
   "outputs": [
    {
     "name": "stdout",
     "output_type": "stream",
     "text": [
      "[06:48:49] WARNING: /workspace/src/objective/regression_obj.cu:152: reg:linear is now deprecated in favor of reg:squarederror.\n",
      "[06:48:53] WARNING: /workspace/src/objective/regression_obj.cu:152: reg:linear is now deprecated in favor of reg:squarederror.\n",
      "[06:48:57] WARNING: /workspace/src/objective/regression_obj.cu:152: reg:linear is now deprecated in favor of reg:squarederror.\n",
      "[06:49:01] WARNING: /workspace/src/objective/regression_obj.cu:152: reg:linear is now deprecated in favor of reg:squarederror.\n",
      "[06:49:05] WARNING: /workspace/src/objective/regression_obj.cu:152: reg:linear is now deprecated in favor of reg:squarederror.\n",
      "[06:49:28] WARNING: /workspace/src/objective/regression_obj.cu:152: reg:linear is now deprecated in favor of reg:squarederror.\n",
      "[06:49:29] WARNING: /workspace/src/objective/regression_obj.cu:152: reg:linear is now deprecated in favor of reg:squarederror.\n",
      "[06:49:30] WARNING: /workspace/src/objective/regression_obj.cu:152: reg:linear is now deprecated in favor of reg:squarederror.\n",
      "[06:49:31] WARNING: /workspace/src/objective/regression_obj.cu:152: reg:linear is now deprecated in favor of reg:squarederror.\n",
      "[06:49:32] WARNING: /workspace/src/objective/regression_obj.cu:152: reg:linear is now deprecated in favor of reg:squarederror.\n"
     ]
    }
   ],
   "source": [
    "#train error\n",
    "train_df=pd.DataFrame()\n",
    "for idx,alg in enumerate(algs):\n",
    "  alg_name=algs_name[idx]\n",
    "  rmse=cross_val_rmse(algs[idx],x_train2,y_train2)\n",
    "  train_df=train_df.append({'algorithm name':alg_name,'rmse_train':rmse},ignore_index=True)\n",
    "#test error\n",
    "test_df=pd.DataFrame()\n",
    "for idx,alg in enumerate(algs):\n",
    "  alg_name=algs_name[idx]\n",
    "  rmse=cross_val_rmse(algs[idx],x_test2,y_test2)\n",
    "  test_df=test_df.append({'algorithm name':alg_name,'rmse_test':rmse},ignore_index=True)"
   ]
  },
  {
   "cell_type": "code",
   "execution_count": 2656,
   "metadata": {
    "colab": {
     "base_uri": "https://localhost:8080/",
     "height": 254
    },
    "colab_type": "code",
    "id": "3-1kg82YHQPT",
    "outputId": "f8d48d30-7fa7-4d34-80ae-3dbb8d4e0248"
   },
   "outputs": [
    {
     "data": {
      "text/html": [
       "<div>\n",
       "<style scoped>\n",
       "    .dataframe tbody tr th:only-of-type {\n",
       "        vertical-align: middle;\n",
       "    }\n",
       "\n",
       "    .dataframe tbody tr th {\n",
       "        vertical-align: top;\n",
       "    }\n",
       "\n",
       "    .dataframe thead th {\n",
       "        text-align: right;\n",
       "    }\n",
       "</style>\n",
       "<table border=\"1\" class=\"dataframe\">\n",
       "  <thead>\n",
       "    <tr style=\"text-align: right;\">\n",
       "      <th></th>\n",
       "      <th>algorithm name</th>\n",
       "      <th>rmse_train</th>\n",
       "      <th>rmse_test</th>\n",
       "    </tr>\n",
       "  </thead>\n",
       "  <tbody>\n",
       "    <tr>\n",
       "      <th>6</th>\n",
       "      <td>ridge</td>\n",
       "      <td>0.115</td>\n",
       "      <td>0.139</td>\n",
       "    </tr>\n",
       "    <tr>\n",
       "      <th>3</th>\n",
       "      <td>lasso</td>\n",
       "      <td>0.117</td>\n",
       "      <td>0.141</td>\n",
       "    </tr>\n",
       "    <tr>\n",
       "      <th>1</th>\n",
       "      <td>GBoost</td>\n",
       "      <td>0.120</td>\n",
       "      <td>0.141</td>\n",
       "    </tr>\n",
       "    <tr>\n",
       "      <th>0</th>\n",
       "      <td>ENet</td>\n",
       "      <td>0.117</td>\n",
       "      <td>0.142</td>\n",
       "    </tr>\n",
       "    <tr>\n",
       "      <th>4</th>\n",
       "      <td>lgb</td>\n",
       "      <td>0.129</td>\n",
       "      <td>0.151</td>\n",
       "    </tr>\n",
       "    <tr>\n",
       "      <th>2</th>\n",
       "      <td>KRR</td>\n",
       "      <td>0.118</td>\n",
       "      <td>0.154</td>\n",
       "    </tr>\n",
       "    <tr>\n",
       "      <th>5</th>\n",
       "      <td>xgb</td>\n",
       "      <td>0.124</td>\n",
       "      <td>0.158</td>\n",
       "    </tr>\n",
       "  </tbody>\n",
       "</table>\n",
       "</div>"
      ],
      "text/plain": [
       "  algorithm name  rmse_train  rmse_test\n",
       "6          ridge       0.115      0.139\n",
       "3          lasso       0.117      0.141\n",
       "1         GBoost       0.120      0.141\n",
       "0           ENet       0.117      0.142\n",
       "4            lgb       0.129      0.151\n",
       "2            KRR       0.118      0.154\n",
       "5            xgb       0.124      0.158"
      ]
     },
     "execution_count": 2656,
     "metadata": {
      "tags": []
     },
     "output_type": "execute_result"
    }
   ],
   "source": [
    "pd.merge(train_df,test_df).sort_values(by=['rmse_test','rmse_train'])"
   ]
  },
  {
   "cell_type": "markdown",
   "metadata": {
    "colab_type": "text",
    "id": "QkZt01UJN_eg"
   },
   "source": [
    "       Ridge, Lasso, ElasticNet and GradientBoosting have the smallest rmse value. That was the reason they were put in the StackingCVRegressors in the following way:        \n",
    "        ◦ regressors = (Ridge, Lasso, ElasticNet, GradientBoosting)\n",
    "        ◦ meta_regressor=ENet-since it performed the best\n",
    "        \n",
    "Final predictions were made as a weighted combinations of regressors and stacking as mentioned above.\n",
    "\n"
   ]
  },
  {
   "cell_type": "markdown",
   "metadata": {
    "colab_type": "text",
    "id": "QHcOet_oM9PM"
   },
   "source": [
    "## How Optimization was done?\n",
    "\n",
    "Optimization of hyperparameters was done by using **RandomizedSearchCV** method from *sklearn.model_selection* library which as an input receives the following:\n",
    "\n",
    "   - **estimator** we are evaluating (chosen algorithm)\n",
    "   - **param_distributions** chosen values for testing the parameters\n",
    "   - **n_iter** number of iterations \n",
    "   - **scoring** is a chosen scoring function for evaluating algorithm performance\n",
    "   - **cv**=5\n",
    "\n",
    "\n",
    "We are putting it as a comment so we don't reexecute it again since we chose hyperparameters thanks to the **RandomizedSearchCV** method."
   ]
  },
  {
   "cell_type": "code",
   "execution_count": 0,
   "metadata": {
    "colab": {},
    "colab_type": "code",
    "id": "4_1CxXGHcyaj"
   },
   "outputs": [],
   "source": [
    "## Optimization"
   ]
  },
  {
   "cell_type": "code",
   "execution_count": 2658,
   "metadata": {
    "colab": {
     "base_uri": "https://localhost:8080/",
     "height": 54
    },
    "colab_type": "code",
    "id": "YYWSZyjPdFzv",
    "outputId": "aeed671e-1750-4e77-baf3-79eb063af364"
   },
   "outputs": [
    {
     "data": {
      "text/plain": [
       "\"\\nGradientBoostingRegressor(n_estimators=3000, learning_rate=0.05,\\n                                   max_depth=4, max_features='log2',\\n                                   min_samples_leaf=10, min_samples_split=2, \\n                                   loss='huber',alpha=0.8)\\n\""
      ]
     },
     "execution_count": 2658,
     "metadata": {
      "tags": []
     },
     "output_type": "execute_result"
    }
   ],
   "source": [
    "### \n",
    "'''\n",
    "\n",
    "GradientBoostingRegressor().get_params()\n",
    "\n",
    "#OPTIMIZING GradientBoostingRegressor()\n",
    "\n",
    "\n",
    "estimator=GradientBoostingRegressor()\n",
    "param_distributions={\n",
    "    'n_estimators':[500,1000,2000,3000,2500,3500],#default 100\n",
    "    'learning_rate':[0.05,0.1,0.3,0.2,0.4,0.6],#0.1\n",
    "    'max_depth':[3,4,5,6,7],#3\n",
    "    'max_features':['auto','sqrt','log2'],#None\n",
    "    'min_samples_leaf':[1,10,15,20],#1\n",
    "    'loss':['huber','ls','quantile'],#ls\n",
    "    'min_samples_split':[2,10,20,5],#2\n",
    "    'alpha':[0.5,0.8,0.9]#0.9\n",
    "}\n",
    "searchCV = RandomizedSearchCV(estimator, param_distributions, n_iter=45, scoring='r2',cv=10)\n",
    "\n",
    "searchCV.fit(x_train,y_train)\n",
    "searchCV.best_params_\n",
    "'''\n",
    "\n",
    "'''\n",
    "GradientBoostingRegressor(n_estimators=3000, learning_rate=0.05,\n",
    "                                   max_depth=4, max_features='log2',\n",
    "                                   min_samples_leaf=10, min_samples_split=2, \n",
    "                                   loss='huber',alpha=0.8)\n",
    "'''"
   ]
  },
  {
   "cell_type": "code",
   "execution_count": 2659,
   "metadata": {
    "colab": {
     "base_uri": "https://localhost:8080/",
     "height": 54
    },
    "colab_type": "code",
    "id": "blLyIolKowvp",
    "outputId": "81766fc0-a7e8-425e-bbb5-c27340e94149"
   },
   "outputs": [
    {
     "data": {
      "text/plain": [
       "\"\\n\\nR^2 (coefficient of determination) regression score function.\\n\\n#OPTIMIZING ENet()\\n#from surprise.model_selection import RandomizedSearchCV\\n\\nfrom sklearn.model_selection import RandomizedSearchCV\\n\\nestimator =  ElasticNet()\\nparam_distributions={\\n    'alpha':[0.0005,0.009,0.001,0.05,0.1,0.3,0.2,0.4,0.6,0.8,0.0008,0.008,0.05,0.005,0.006],#1.0\\n    'l1_ratio':[0.0,0.25,0.5,0.75,1.0],#0.5 comb of L1 and L2 ratio\\n    'normalize':[True,False],#False\\n    'positive':[True,False],#False\\n    'precompute':[True,False],#False\\n    'warm_start':[True,False],#False\\n    'selection':['cyclic','random']\\n}\\nsearchCV = RandomizedSearchCV(estimator, param_distributions, n_iter=35, scoring='neg_mean_squared_error',cv=5)\\n\\nsearchCV.fit(x_train,y_train)\\nsearchCV.best_params_\\n\""
      ]
     },
     "execution_count": 2659,
     "metadata": {
      "tags": []
     },
     "output_type": "execute_result"
    }
   ],
   "source": [
    "'''\n",
    "\n",
    "R^2 (coefficient of determination) regression score function.\n",
    "\n",
    "#OPTIMIZING ENet()\n",
    "#from surprise.model_selection import RandomizedSearchCV\n",
    "\n",
    "from sklearn.model_selection import RandomizedSearchCV\n",
    "\n",
    "estimator =  ElasticNet()\n",
    "param_distributions={\n",
    "    'alpha':[0.0005,0.009,0.001,0.05,0.1,0.3,0.2,0.4,0.6,0.8,0.0008,0.008,0.05,0.005,0.006],#1.0\n",
    "    'l1_ratio':[0.0,0.25,0.5,0.75,1.0],#0.5 comb of L1 and L2 ratio\n",
    "    'normalize':[True,False],#False\n",
    "    'positive':[True,False],#False\n",
    "    'precompute':[True,False],#False\n",
    "    'warm_start':[True,False],#False\n",
    "    'selection':['cyclic','random']\n",
    "}\n",
    "searchCV = RandomizedSearchCV(estimator, param_distributions, n_iter=35, scoring='neg_mean_squared_error',cv=5)\n",
    "\n",
    "searchCV.fit(x_train,y_train)\n",
    "searchCV.best_params_\n",
    "'''\n"
   ]
  },
  {
   "cell_type": "markdown",
   "metadata": {
    "colab": {
     "base_uri": "https://localhost:8080/",
     "height": 128
    },
    "colab_type": "code",
    "id": "2eXufmHVOVvt",
    "outputId": "50da4678-07b4-4c05-d0b2-e00f8554d3bb"
   },
   "source": [
    "        \n",
    "    This notebook used some of the ideas from the notebooks from kaggle.com, but code was not copied -->\n",
    "    only idea was referenced.\n",
    "\n",
    "    Moreover, it is also done with help of a various online resources.\n",
    "\n",
    "    Sincerely,\n",
    "    \"DuBaI group\"\n",
    "        Dusica Stepic\n",
    "        Omirbanu Nurassilova\n",
    "        Ivana Nastasic\n"
   ]
  }
 ],
 "metadata": {
  "colab": {
   "collapsed_sections": [
    "pLLsKO3C1X4r"
   ],
   "name": "DuBaI - final.ipynb",
   "provenance": [],
   "toc_visible": true,
   "version": "0.3.2"
  },
  "kernelspec": {
   "display_name": "Python 3",
   "language": "python",
   "name": "python3"
  },
  "language_info": {
   "codemirror_mode": {
    "name": "ipython",
    "version": 3
   },
   "file_extension": ".py",
   "mimetype": "text/x-python",
   "name": "python",
   "nbconvert_exporter": "python",
   "pygments_lexer": "ipython3",
   "version": "3.6.5"
  }
 },
 "nbformat": 4,
 "nbformat_minor": 1
}
